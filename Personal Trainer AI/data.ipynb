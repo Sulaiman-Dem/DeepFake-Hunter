{
 "cells": [
  {
   "cell_type": "markdown",
   "metadata": {},
   "source": [
    "# The Idea = Personal Trainer AI\n",
    "#### Description: This can be essential be your AI trainer to keeping you fit and healthy toward life and it take age as a factor toward improving your fitness."
   ]
  },
  {
   "cell_type": "markdown",
   "metadata": {},
   "source": [
    "1. https://www.kaggle.com/code/arul08/fitness-data\n",
    "Someone taking data from people and providing tips on how to improve wellbeing. "
   ]
  },
  {
   "cell_type": "markdown",
   "metadata": {},
   "source": [
    "2. https://www.kaggle.com/code/niharika41298/food-nutrition-analysis-eda Someone analysis nutrition"
   ]
  },
  {
   "cell_type": "markdown",
   "metadata": {},
   "source": []
  }
 ],
 "metadata": {
  "language_info": {
   "name": "python"
  },
  "orig_nbformat": 4
 },
 "nbformat": 4,
 "nbformat_minor": 2
}
