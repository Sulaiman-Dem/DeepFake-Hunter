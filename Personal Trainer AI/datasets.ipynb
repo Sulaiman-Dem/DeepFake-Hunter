{
 "cells": [
  {
   "cell_type": "markdown",
   "metadata": {},
   "source": [
    "# Usable Dataset:"
   ]
  },
  {
   "cell_type": "markdown",
   "metadata": {},
   "source": [
    "1. https://www.kaggle.com/datasets/niharika41298/gym-exercise-data\n",
    "Dataset of gym exercise data to help AI understand good exercises."
   ]
  },
  {
   "cell_type": "markdown",
   "metadata": {},
   "source": [
    "2. https://www.kaggle.com/datasets/shrutisaxena/food-nutrition-dataset\n",
    "List of food nutrition data"
   ]
  },
  {
   "cell_type": "markdown",
   "metadata": {},
   "source": []
  }
 ],
 "metadata": {
  "language_info": {
   "name": "python"
  },
  "orig_nbformat": 4
 },
 "nbformat": 4,
 "nbformat_minor": 2
}
