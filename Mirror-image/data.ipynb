{
 "cells": [
  {
   "cell_type": "markdown",
   "metadata": {},
   "source": [
    "# The Idea = Mirror Image\n",
    "#### Description: \n",
    "A mirror image idea which the name is only a filler but the idea of this AI is it takes human images and understands a person's dimensions of what certain clothes will look like on them then the output would be an image and there would be two ways of doing this AI.\n",
    "1. For online shopping where people can have a preview of what the clothes will look like on them\n",
    "2. It is a mirror with a camera or an upload image feature where it can scan all the clothes you own and create a selection list of what you look like in all your clothes to see what would be good to wear. Then the mirror would present the clothes like a its own virtual display. A person's phone would be the remote of this AI so app making would be required."
   ]
  },
  {
   "cell_type": "markdown",
   "metadata": {},
   "source": []
  }
 ],
 "metadata": {
  "language_info": {
   "name": "python"
  },
  "orig_nbformat": 4
 },
 "nbformat": 4,
 "nbformat_minor": 2
}
