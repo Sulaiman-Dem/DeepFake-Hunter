{
  "cells": [
    {
      "cell_type": "markdown",
      "metadata": {
        "id": "Xt1l21S7OIXT"
      },
      "source": [
        "# Tensorflow Model One"
      ]
    },
    {
      "cell_type": "code",
      "execution_count": 1,
      "metadata": {
        "colab": {
          "base_uri": "https://localhost:8080/"
        },
        "id": "whAdhjg4wtTk",
        "outputId": "238f61a5-c68c-4c41-99ee-3e8baba0fbf3"
      },
      "outputs": [
        {
          "name": "stdout",
          "output_type": "stream",
          "text": [
            "Requirement already satisfied: joblib in /usr/local/lib/python3.10/dist-packages (1.3.2)\n"
          ]
        }
      ],
      "source": [
        "!pip install joblib"
      ]
    },
    {
      "cell_type": "markdown",
      "metadata": {
        "id": "32uEY9t1j2u2"
      },
      "source": [
        "## Steps:\n",
        "1. Load/Import Dependencies\n",
        "- Load Paths\n",
        "- Create tensflow datasets\n",
        "2. Create training(80%), testing(10%) and validating(10%)\n",
        "3. Build / Define the Model\n",
        "4. Train the Model\n",
        "-  Save the History Callback Object\n",
        "5. Evaluate Model\n",
        "- Model Loss Graph\n",
        "- Model Accuracy Graph\n",
        "6.  Make and Evaluate New Predictions Using Our Testing Data\n",
        "7. Confusion  Matrix\n",
        "- Checking Our Scores\n",
        "- Classification Report"
      ]
    },
    {
      "cell_type": "markdown",
      "metadata": {
        "id": "POJYZznnnOl-"
      },
      "source": [
        "# 1. Load/Import Dependencies"
      ]
    },
    {
      "cell_type": "code",
      "execution_count": 2,
      "metadata": {
        "colab": {
          "base_uri": "https://localhost:8080/"
        },
        "id": "N8sqvFHFDCoL",
        "outputId": "cd1dc565-e6d4-470d-e4f2-7c59549bca36"
      },
      "outputs": [
        {
          "name": "stdout",
          "output_type": "stream",
          "text": [
            "Drive already mounted at /content/drive; to attempt to forcibly remount, call drive.mount(\"/content/drive\", force_remount=True).\n"
          ]
        }
      ],
      "source": [
        "from google.colab import drive\n",
        "drive.mount('/content/drive')"
      ]
    },
    {
      "cell_type": "code",
      "execution_count": 3,
      "metadata": {
        "id": "qaVK4pcyLQaA"
      },
      "outputs": [],
      "source": [
        "import tensorflow as tf  #Our model framework\n",
        "import os # Working with files\n",
        "import pandas as pd #To create/manipulate a dataframe\n",
        "import numpy as np # Data wrangling.\n",
        "import joblib # save scaler\n",
        "\n",
        "# Evaluating Model\n",
        "from sklearn.preprocessing import StandardScaler # To perform standardization by centering and scaling.\n",
        "from sklearn.metrics import accuracy_score,classification_report, confusion_matrix, f1_score, multilabel_confusion_matrix, precision_score, recall_score, ConfusionMatrixDisplay\n",
        "\n",
        "# Building the model\n",
        "from tensorflow.keras.models import Sequential\n",
        "from tensorflow.keras import layers                  # Keras layers API.\n",
        "from tensorflow.keras.layers import Conv1D, Dense, Flatten # Conv2D is a convolution neural network. Flatten is to make everything into one dimensional\n",
        "from tensorflow.keras.callbacks import EarlyStopping     # Stop training when a monitored metric has stopped improving.\n",
        "from sklearn.model_selection import train_test_split # To split data in training/validating/testing.\n",
        "from tensorflow.keras.callbacks import ReduceLROnPlateau # Reduce learning rate when a metric has stopped improving.\n",
        "from tensorflow.keras.models import load_model           # To load the model.\n",
        "import pickle # Python object serialization.\n",
        "\n",
        "#  Visualise Model Performance\n",
        "import seaborn as sns\n",
        "sns.set()\n",
        "import plotly.express as px\n",
        "from matplotlib import pyplot as plt"
      ]
    },
    {
      "cell_type": "markdown",
      "metadata": {
        "id": "9rKKhx3Rpv_N"
      },
      "source": [
        "## 1.1 Loading data path"
      ]
    },
    {
      "cell_type": "code",
      "execution_count": 4,
      "metadata": {
        "id": "afBaWPD1tQQR"
      },
      "outputs": [],
      "source": [
        "csv_features_combined = os.path.join('/content/drive/MyDrive/data/features/new_features_5k/features_combined_1.csv')"
      ]
    },
    {
      "cell_type": "markdown",
      "metadata": {
        "id": "-LmQQhN8xnDJ"
      },
      "source": [
        "## 1.2 Making csv files dataframes"
      ]
    },
    {
      "cell_type": "code",
      "execution_count": 5,
      "metadata": {
        "id": "GOtc8euoxmn2"
      },
      "outputs": [],
      "source": [
        "df_features_combined = pd.read_csv(csv_features_combined)"
      ]
    },
    {
      "cell_type": "markdown",
      "metadata": {
        "id": "agbu72S_YWcO"
      },
      "source": [
        "## 1.3 Null Values"
      ]
    },
    {
      "cell_type": "code",
      "execution_count": 6,
      "metadata": {
        "colab": {
          "base_uri": "https://localhost:8080/"
        },
        "id": "Bt-jBsbPYbJ6",
        "outputId": "373fc4fe-0ad2-4fda-d687-45127b7b055e"
      },
      "outputs": [
        {
          "data": {
            "text/plain": [
              "8320320"
            ]
          },
          "execution_count": 6,
          "metadata": {},
          "output_type": "execute_result"
        }
      ],
      "source": [
        "df_features_combined.isnull().sum().sum()"
      ]
    },
    {
      "cell_type": "code",
      "execution_count": 7,
      "metadata": {
        "id": "9xqLgDHRYmCB"
      },
      "outputs": [],
      "source": [
        "df_features_combined = df_features_combined.fillna(0)"
      ]
    },
    {
      "cell_type": "code",
      "execution_count": 8,
      "metadata": {
        "colab": {
          "base_uri": "https://localhost:8080/"
        },
        "id": "c4sfgLhEZGRo",
        "outputId": "fa85caea-d5a3-4532-9ca6-104228580160"
      },
      "outputs": [
        {
          "data": {
            "text/plain": [
              "0"
            ]
          },
          "execution_count": 8,
          "metadata": {},
          "output_type": "execute_result"
        }
      ],
      "source": [
        "df_features_combined.isnull().sum().sum()"
      ]
    },
    {
      "cell_type": "markdown",
      "metadata": {
        "id": "mKey9WJYnaQa"
      },
      "source": [
        "# 2. Create training, testing and validating"
      ]
    },
    {
      "cell_type": "markdown",
      "metadata": {
        "id": "EoMABNEqyJSS"
      },
      "source": [
        "## 2.1 Split Our Data Into Three Sets:\n",
        "> 1. Training   (80%)\n",
        "> 2. Validating (10%)\n",
        "> 3. Testing    (10%)"
      ]
    },
    {
      "cell_type": "code",
      "execution_count": 9,
      "metadata": {
        "id": "l7sy3IeW_EPY"
      },
      "outputs": [],
      "source": [
        "X = df_features_combined.drop(labels=['label'], axis=1)\n",
        "y = df_features_combined['label']\n"
      ]
    },
    {
      "cell_type": "code",
      "execution_count": 10,
      "metadata": {
        "colab": {
          "base_uri": "https://localhost:8080/"
        },
        "id": "sxnp3qZwDxQ6",
        "outputId": "7f56d38c-a38a-40c7-db7b-9d6399529a65"
      },
      "outputs": [
        {
          "name": "stdout",
          "output_type": "stream",
          "text": [
            "X_remain.shape =  (8000, 2592)\n",
            "y_remain.shape =  (8000,)\n",
            "X_train.shape  =  (32000, 2592)\n",
            "y_train.shape  =  (32000,)\n",
            "X_valid.shape  =  (4000, 2592)\n",
            "y_valid.shape  =  (4000,)\n",
            "X_test.shape   =  (4000, 2592)\n",
            "y_test.shape   =  (4000,)\n"
          ]
        }
      ],
      "source": [
        "X_train, X_remain, y_train, y_remain = train_test_split(\n",
        "    X, y, test_size = 0.2, random_state = 42)\n",
        "\n",
        "print('X_remain.shape = ', X_remain.shape)\n",
        "print('y_remain.shape = ', y_remain.shape)\n",
        "\n",
        "X_valid, X_test, y_valid, y_test = train_test_split(\n",
        "    X_remain, y_remain, test_size = 0.5, random_state = 42)\n",
        "\n",
        "print('X_train.shape  = ', X_train.shape)\n",
        "print('y_train.shape  = ', y_train.shape)\n",
        "print('X_valid.shape  = ', X_valid.shape)\n",
        "print('y_valid.shape  = ', y_valid.shape)\n",
        "print('X_test.shape   = ', X_test.shape)\n",
        "print('y_test.shape   = ', y_test.shape)"
      ]
    },
    {
      "cell_type": "code",
      "execution_count": 11,
      "metadata": {
        "colab": {
          "base_uri": "https://localhost:8080/"
        },
        "id": "0kXedGzk-2tP",
        "outputId": "efa5a80a-9681-47d3-b07e-a1ff179e22f1"
      },
      "outputs": [
        {
          "name": "stdout",
          "output_type": "stream",
          "text": [
            "X_train.shape  =  (32000, 2592)\n",
            "X_remain.shape =  (8000, 2592)\n",
            "X_valid.shape  =  (4000, 2592)\n",
            "X_test.shape   =  (4000, 2592)\n"
          ]
        }
      ],
      "source": [
        "# Standardize / Scale data.\n",
        "# Standardize features by removing the mean and scaling to unit variance.\n",
        "# z = (x - u) / s\n",
        "\n",
        "standard_scaler = StandardScaler()\n",
        "X_train = standard_scaler.fit_transform(X_train.values)\n",
        "X_valid = standard_scaler.transform(X_valid.values)\n",
        "X_test = standard_scaler.transform(X_test.values)\n",
        "\n",
        "print('X_train.shape  = ', X_train.shape)\n",
        "print('X_remain.shape = ', X_remain.shape)\n",
        "print('X_valid.shape  = ', X_valid.shape)\n",
        "print('X_test.shape   = ', X_test.shape)\n"
      ]
    },
    {
      "cell_type": "code",
      "execution_count": 12,
      "metadata": {
        "colab": {
          "base_uri": "https://localhost:8080/"
        },
        "id": "-h4la9StE5OQ",
        "outputId": "3900f255-8088-442f-a4e9-b44fc143f90e"
      },
      "outputs": [
        {
          "name": "stdout",
          "output_type": "stream",
          "text": [
            "X_train.shape  =  (32000, 2592, 1)\n",
            "X_remain.shape =  (8000, 2592)\n",
            "X_valid.shape  =  (4000, 2592, 1)\n",
            "X_test.shape   =  (4000, 2592, 1)\n"
          ]
        }
      ],
      "source": [
        "# Modify data to fit into a 1D-CNN.\n",
        "\n",
        "X_train = np.expand_dims(X_train, axis = 2)\n",
        "X_valid = np.expand_dims(X_valid, axis = 2)\n",
        "X_test = np.expand_dims(X_test, axis = 2)\n",
        "\n",
        "print('X_train.shape  = ', X_train.shape)\n",
        "print('X_remain.shape = ', X_remain.shape)\n",
        "print('X_valid.shape  = ', X_valid.shape)\n",
        "print('X_test.shape   = ', X_test.shape)"
      ]
    },
    {
      "cell_type": "markdown",
      "metadata": {
        "id": "E7ueLjc0neo6"
      },
      "source": [
        "# 3. Build / Define the Model"
      ]
    },
    {
      "cell_type": "code",
      "execution_count": 13,
      "metadata": {
        "id": "gYxPEfSb781L"
      },
      "outputs": [],
      "source": [
        "early_stopping = EarlyStopping(monitor = 'val_accuracy',\n",
        "                               patience = 10,\n",
        "                               mode = 'auto',\n",
        "                               restore_best_weights = True)"
      ]
    },
    {
      "cell_type": "code",
      "execution_count": 14,
      "metadata": {
        "id": "HQQjNF6I75Xq"
      },
      "outputs": [],
      "source": [
        "reduce_learning_rate = ReduceLROnPlateau(monitor ='val_accuracy',\n",
        "                                         factor = 0.5,\n",
        "                                         verbose = 1,\n",
        "                                         min_lr = 0.00001)"
      ]
    },
    {
      "cell_type": "code",
      "execution_count": 15,
      "metadata": {
        "id": "bfOECd9Ee6MW"
      },
      "outputs": [],
      "source": [
        "checkpoint_filepath = '/content/drive/MyDrive/data/model/checkpoints'\n",
        "model_checkpoint_callback = tf.keras.callbacks.ModelCheckpoint(\n",
        "    filepath=checkpoint_filepath,\n",
        "    save_weights_only=True,\n",
        "    monitor='val_accuracy',\n",
        "    mode='max',\n",
        "    save_best_only=True)"
      ]
    },
    {
      "cell_type": "code",
      "execution_count": 16,
      "metadata": {
        "id": "zo-i3PIOnhlW"
      },
      "outputs": [],
      "source": [
        "# Create Neural Network\n",
        "\n",
        "model = Sequential()\n",
        "model.add(layers.Conv1D(filters = 1024, kernel_size = 5, strides = 5, padding='same', activation='relu'))\n",
        "model.add(layers.BatchNormalization())\n",
        "model.add(layers.MaxPooling1D(pool_size=5,strides = 3, padding='same'))\n",
        "\n",
        "model.add(layers.Conv1D(filters = 512, kernel_size = 5, strides = 5,padding='same', activation='relu'))\n",
        "model.add(layers.BatchNormalization())\n",
        "model.add(layers.MaxPooling1D(pool_size=5,strides = 3, padding='same'))\n",
        "\n",
        "model.add(layers.Conv1D(filters = 512, kernel_size = 5, strides = 5,padding='same', activation='relu'))\n",
        "model.add(layers.BatchNormalization())\n",
        "model.add(layers.MaxPooling1D(pool_size=5,strides = 3, padding='same'))\n",
        "\n",
        "model.add(layers.Conv1D(filters = 512, kernel_size = 5, strides = 5,padding='same', activation='relu'))\n",
        "model.add(layers.BatchNormalization())\n",
        "model.add(layers.MaxPooling1D(pool_size=5,strides = 3, padding='same'))\n",
        "\n",
        "model.add(layers.Conv1D(filters = 256, kernel_size = 5, strides = 5,padding='same', activation='relu'))\n",
        "model.add(layers.BatchNormalization())\n",
        "model.add(layers.MaxPooling1D(pool_size=5,strides = 3, padding='same'))\n",
        "\n",
        "model.add(layers.Conv1D(filters = 256, kernel_size = 5, strides = 5,padding='same', activation='relu'))\n",
        "model.add(layers.BatchNormalization())\n",
        "model.add(layers.MaxPooling1D(pool_size=5,strides = 3, padding='same'))\n",
        "\n",
        "model.add(layers.Conv1D(filters = 256, kernel_size = 5, strides = 5,padding='same', activation='relu'))\n",
        "model.add(layers.BatchNormalization())\n",
        "model.add(layers.MaxPooling1D(pool_size=5,strides = 3, padding='same'))\n",
        "\n",
        "#extra added layers\n",
        "model.add(layers.Conv1D(filters = 128, kernel_size = 5, strides = 5,padding='same', activation='relu'))\n",
        "model.add(layers.BatchNormalization())\n",
        "model.add(layers.MaxPooling1D(pool_size=5,strides = 3, padding='same'))\n",
        "\n",
        "#extra added layers\n",
        "model.add(layers.Conv1D(filters = 128, kernel_size = 5, strides = 5,padding='same', activation='relu'))\n",
        "model.add(layers.BatchNormalization())\n",
        "model.add(layers.MaxPooling1D(pool_size=5,strides = 3, padding='same'))\n",
        "\n",
        "#extra added layers\n",
        "model.add(layers.Conv1D(filters = 64, kernel_size = 5, strides = 5,padding='same', activation='relu'))\n",
        "model.add(layers.BatchNormalization())\n",
        "model.add(layers.MaxPooling1D(pool_size=5,strides = 3, padding='same'))\n",
        "\n",
        "#extra added layers\n",
        "model.add(layers.Conv1D(filters = 64, kernel_size = 5, strides = 5,padding='same', activation='relu'))\n",
        "model.add(layers.BatchNormalization())\n",
        "model.add(layers.MaxPooling1D(pool_size=5,strides = 3, padding='same'))\n",
        "\n",
        "\n",
        "model.add(layers.Flatten())\n",
        "\n",
        "model.add(layers.Dense(1024, activation='relu'))\n",
        "\n",
        "model.add(layers.BatchNormalization())\n",
        "model.add(layers.Dropout(0.5))\n",
        "\n",
        "model.add(layers.Dense(1, activation='sigmoid'))\n",
        "\n",
        "model.compile('adam', loss='BinaryCrossentropy', metrics=['accuracy'])"
      ]
    },
    {
      "cell_type": "markdown",
      "metadata": {
        "id": "9JAXX3wSnpf0"
      },
      "source": [
        "# 4. Train the Model"
      ]
    },
    {
      "cell_type": "code",
      "execution_count": 17,
      "metadata": {
        "colab": {
          "base_uri": "https://localhost:8080/"
        },
        "id": "TX89ndNBhj4H",
        "outputId": "9db460d2-5fbb-48f1-8489-9ed657ff640b"
      },
      "outputs": [
        {
          "name": "stdout",
          "output_type": "stream",
          "text": [
            "batchsize:  800\n",
            "prefetech:  400\n"
          ]
        }
      ],
      "source": [
        "amount = len(df_features_combined)\n",
        "batch_size = int(round((amount) * 0.02))\n",
        "print(\"batchsize: \",batch_size)\n",
        "prefetech = round(batch_size / 2)\n",
        "print(\"prefetech: \",prefetech)\n"
      ]
    },
    {
      "cell_type": "code",
      "execution_count": 18,
      "metadata": {
        "colab": {
          "base_uri": "https://localhost:8080/"
        },
        "id": "Q92KJIB2nuD2",
        "outputId": "dd67c058-70db-4888-df30-27ad10a258b1"
      },
      "outputs": [
        {
          "name": "stdout",
          "output_type": "stream",
          "text": [
            "Epoch 1/5000\n",
            "125/125 - 53s - loss: 0.3238 - accuracy: 0.8763 - val_loss: 0.6965 - val_accuracy: 0.4765 - lr: 0.0010 - 53s/epoch - 422ms/step\n",
            "Epoch 2/5000\n",
            "125/125 - 31s - loss: 0.1739 - accuracy: 0.9383 - val_loss: 1.0716 - val_accuracy: 0.4930 - lr: 0.0010 - 31s/epoch - 248ms/step\n",
            "Epoch 3/5000\n",
            "125/125 - 32s - loss: 0.1235 - accuracy: 0.9547 - val_loss: 1.3327 - val_accuracy: 0.4762 - lr: 0.0010 - 32s/epoch - 256ms/step\n",
            "Epoch 4/5000\n",
            "125/125 - 32s - loss: 0.1043 - accuracy: 0.9629 - val_loss: 1.4792 - val_accuracy: 0.4790 - lr: 0.0010 - 32s/epoch - 255ms/step\n",
            "Epoch 5/5000\n",
            "125/125 - 32s - loss: 0.0941 - accuracy: 0.9650 - val_loss: 0.2433 - val_accuracy: 0.9097 - lr: 0.0010 - 32s/epoch - 255ms/step\n",
            "Epoch 6/5000\n",
            "125/125 - 32s - loss: 0.0850 - accuracy: 0.9691 - val_loss: 0.1383 - val_accuracy: 0.9480 - lr: 0.0010 - 32s/epoch - 257ms/step\n",
            "Epoch 7/5000\n",
            "125/125 - 32s - loss: 0.0690 - accuracy: 0.9754 - val_loss: 0.1169 - val_accuracy: 0.9617 - lr: 0.0010 - 32s/epoch - 258ms/step\n",
            "Epoch 8/5000\n",
            "125/125 - 32s - loss: 0.0649 - accuracy: 0.9755 - val_loss: 0.0902 - val_accuracy: 0.9710 - lr: 0.0010 - 32s/epoch - 257ms/step\n",
            "Epoch 9/5000\n",
            "125/125 - 32s - loss: 0.0586 - accuracy: 0.9790 - val_loss: 0.1826 - val_accuracy: 0.9367 - lr: 0.0010 - 32s/epoch - 254ms/step\n",
            "Epoch 10/5000\n",
            "125/125 - 32s - loss: 0.0534 - accuracy: 0.9797 - val_loss: 0.0897 - val_accuracy: 0.9732 - lr: 0.0010 - 32s/epoch - 258ms/step\n",
            "Epoch 11/5000\n",
            "125/125 - 32s - loss: 0.0481 - accuracy: 0.9821 - val_loss: 0.1214 - val_accuracy: 0.9588 - lr: 0.0010 - 32s/epoch - 254ms/step\n",
            "Epoch 12/5000\n",
            "125/125 - 32s - loss: 0.0456 - accuracy: 0.9826 - val_loss: 0.1234 - val_accuracy: 0.9603 - lr: 0.0010 - 32s/epoch - 254ms/step\n",
            "Epoch 13/5000\n",
            "125/125 - 32s - loss: 0.0414 - accuracy: 0.9854 - val_loss: 0.2136 - val_accuracy: 0.9457 - lr: 0.0010 - 32s/epoch - 254ms/step\n",
            "Epoch 14/5000\n",
            "125/125 - 32s - loss: 0.0427 - accuracy: 0.9842 - val_loss: 0.1328 - val_accuracy: 0.9620 - lr: 0.0010 - 32s/epoch - 255ms/step\n",
            "Epoch 15/5000\n",
            "125/125 - 32s - loss: 0.0376 - accuracy: 0.9863 - val_loss: 0.0958 - val_accuracy: 0.9650 - lr: 0.0010 - 32s/epoch - 255ms/step\n",
            "Epoch 16/5000\n",
            "125/125 - 32s - loss: 0.0358 - accuracy: 0.9867 - val_loss: 0.1209 - val_accuracy: 0.9605 - lr: 0.0010 - 32s/epoch - 254ms/step\n",
            "Epoch 17/5000\n",
            "125/125 - 32s - loss: 0.0331 - accuracy: 0.9877 - val_loss: 0.1160 - val_accuracy: 0.9650 - lr: 0.0010 - 32s/epoch - 254ms/step\n",
            "Epoch 18/5000\n",
            "125/125 - 32s - loss: 0.0340 - accuracy: 0.9876 - val_loss: 0.1912 - val_accuracy: 0.9477 - lr: 0.0010 - 32s/epoch - 255ms/step\n",
            "Epoch 19/5000\n",
            "125/125 - 32s - loss: 0.0325 - accuracy: 0.9885 - val_loss: 0.1863 - val_accuracy: 0.9580 - lr: 0.0010 - 32s/epoch - 255ms/step\n",
            "Epoch 20/5000\n",
            "\n",
            "Epoch 20: ReduceLROnPlateau reducing learning rate to 0.0005000000237487257.\n",
            "125/125 - 32s - loss: 0.0269 - accuracy: 0.9904 - val_loss: 0.1404 - val_accuracy: 0.9647 - lr: 0.0010 - 32s/epoch - 256ms/step\n"
          ]
        }
      ],
      "source": [
        "history_callback_object = model.fit(\n",
        "    x = X_train, y = tf.cast(y_train, tf.float32), batch_size = 256,\n",
        "    epochs = 5000, verbose = 2,\n",
        "    shuffle = True,\n",
        "    callbacks = [early_stopping, reduce_learning_rate, model_checkpoint_callback],\n",
        "    validation_data = ( X_valid, tf.cast(y_valid, tf.float32)))"
      ]
    },
    {
      "cell_type": "code",
      "execution_count": 19,
      "metadata": {
        "colab": {
          "base_uri": "https://localhost:8080/"
        },
        "id": "-kvSYBX_RZAx",
        "outputId": "ffcdf778-1e56-4666-f8a2-ffffa1314ae2"
      },
      "outputs": [
        {
          "name": "stdout",
          "output_type": "stream",
          "text": [
            "Model: \"sequential\"\n",
            "_________________________________________________________________\n",
            " Layer (type)                Output Shape              Param #   \n",
            "=================================================================\n",
            " conv1d (Conv1D)             (None, 519, 1024)         6144      \n",
            "                                                                 \n",
            " batch_normalization (Batch  (None, 519, 1024)         4096      \n",
            " Normalization)                                                  \n",
            "                                                                 \n",
            " max_pooling1d (MaxPooling1  (None, 173, 1024)         0         \n",
            " D)                                                              \n",
            "                                                                 \n",
            " conv1d_1 (Conv1D)           (None, 35, 512)           2621952   \n",
            "                                                                 \n",
            " batch_normalization_1 (Bat  (None, 35, 512)           2048      \n",
            " chNormalization)                                                \n",
            "                                                                 \n",
            " max_pooling1d_1 (MaxPoolin  (None, 12, 512)           0         \n",
            " g1D)                                                            \n",
            "                                                                 \n",
            " conv1d_2 (Conv1D)           (None, 3, 512)            1311232   \n",
            "                                                                 \n",
            " batch_normalization_2 (Bat  (None, 3, 512)            2048      \n",
            " chNormalization)                                                \n",
            "                                                                 \n",
            " max_pooling1d_2 (MaxPoolin  (None, 1, 512)            0         \n",
            " g1D)                                                            \n",
            "                                                                 \n",
            " conv1d_3 (Conv1D)           (None, 1, 512)            1311232   \n",
            "                                                                 \n",
            " batch_normalization_3 (Bat  (None, 1, 512)            2048      \n",
            " chNormalization)                                                \n",
            "                                                                 \n",
            " max_pooling1d_3 (MaxPoolin  (None, 1, 512)            0         \n",
            " g1D)                                                            \n",
            "                                                                 \n",
            " conv1d_4 (Conv1D)           (None, 1, 256)            655616    \n",
            "                                                                 \n",
            " batch_normalization_4 (Bat  (None, 1, 256)            1024      \n",
            " chNormalization)                                                \n",
            "                                                                 \n",
            " max_pooling1d_4 (MaxPoolin  (None, 1, 256)            0         \n",
            " g1D)                                                            \n",
            "                                                                 \n",
            " conv1d_5 (Conv1D)           (None, 1, 256)            327936    \n",
            "                                                                 \n",
            " batch_normalization_5 (Bat  (None, 1, 256)            1024      \n",
            " chNormalization)                                                \n",
            "                                                                 \n",
            " max_pooling1d_5 (MaxPoolin  (None, 1, 256)            0         \n",
            " g1D)                                                            \n",
            "                                                                 \n",
            " conv1d_6 (Conv1D)           (None, 1, 256)            327936    \n",
            "                                                                 \n",
            " batch_normalization_6 (Bat  (None, 1, 256)            1024      \n",
            " chNormalization)                                                \n",
            "                                                                 \n",
            " max_pooling1d_6 (MaxPoolin  (None, 1, 256)            0         \n",
            " g1D)                                                            \n",
            "                                                                 \n",
            " conv1d_7 (Conv1D)           (None, 1, 128)            163968    \n",
            "                                                                 \n",
            " batch_normalization_7 (Bat  (None, 1, 128)            512       \n",
            " chNormalization)                                                \n",
            "                                                                 \n",
            " max_pooling1d_7 (MaxPoolin  (None, 1, 128)            0         \n",
            " g1D)                                                            \n",
            "                                                                 \n",
            " conv1d_8 (Conv1D)           (None, 1, 128)            82048     \n",
            "                                                                 \n",
            " batch_normalization_8 (Bat  (None, 1, 128)            512       \n",
            " chNormalization)                                                \n",
            "                                                                 \n",
            " max_pooling1d_8 (MaxPoolin  (None, 1, 128)            0         \n",
            " g1D)                                                            \n",
            "                                                                 \n",
            " conv1d_9 (Conv1D)           (None, 1, 64)             41024     \n",
            "                                                                 \n",
            " batch_normalization_9 (Bat  (None, 1, 64)             256       \n",
            " chNormalization)                                                \n",
            "                                                                 \n",
            " max_pooling1d_9 (MaxPoolin  (None, 1, 64)             0         \n",
            " g1D)                                                            \n",
            "                                                                 \n",
            " conv1d_10 (Conv1D)          (None, 1, 64)             20544     \n",
            "                                                                 \n",
            " batch_normalization_10 (Ba  (None, 1, 64)             256       \n",
            " tchNormalization)                                               \n",
            "                                                                 \n",
            " max_pooling1d_10 (MaxPooli  (None, 1, 64)             0         \n",
            " ng1D)                                                           \n",
            "                                                                 \n",
            " flatten (Flatten)           (None, 64)                0         \n",
            "                                                                 \n",
            " dense (Dense)               (None, 1024)              66560     \n",
            "                                                                 \n",
            " batch_normalization_11 (Ba  (None, 1024)              4096      \n",
            " tchNormalization)                                               \n",
            "                                                                 \n",
            " dropout (Dropout)           (None, 1024)              0         \n",
            "                                                                 \n",
            " dense_1 (Dense)             (None, 1)                 1025      \n",
            "                                                                 \n",
            "=================================================================\n",
            "Total params: 6956161 (26.54 MB)\n",
            "Trainable params: 6946689 (26.50 MB)\n",
            "Non-trainable params: 9472 (37.00 KB)\n",
            "_________________________________________________________________\n",
            "None\n"
          ]
        }
      ],
      "source": [
        "print(model.summary())"
      ]
    },
    {
      "cell_type": "markdown",
      "metadata": {
        "id": "Ax2TYcm391NH"
      },
      "source": [
        "## 4.1 To save history callback object"
      ]
    },
    {
      "cell_type": "code",
      "execution_count": 20,
      "metadata": {
        "id": "y2TcPKrY90cO"
      },
      "outputs": [],
      "source": [
        "file_path_history_callback_object = '\\content\\drive\\MyDrive\\data\\model.21-main1'\n",
        "\n",
        "with open(file_path_history_callback_object, 'wb') as history_callback_object_file:\n",
        "    pickle.dump(history_callback_object.history, history_callback_object_file)\n",
        "\n",
        "# This is used to load the history_callback_object whenever necessary.\n",
        "# with open(file_path_history_callback_object, 'rb') as history_callback_object_file:\n",
        "#     history_callback_object = pickle.load(history_callback_object_file)"
      ]
    },
    {
      "cell_type": "code",
      "execution_count": 21,
      "metadata": {
        "id": "YNTp6MXDLCRW"
      },
      "outputs": [],
      "source": [
        "file_path_model = '/content/drive/MyDrive/data/model/model.21-main1'\n",
        "\n",
        "model.save(file_path_model)"
      ]
    },
    {
      "cell_type": "markdown",
      "metadata": {
        "id": "w7_cJap3V6PG"
      },
      "source": [
        "```Save Scaler Model```"
      ]
    },
    {
      "cell_type": "code",
      "execution_count": 22,
      "metadata": {
        "colab": {
          "base_uri": "https://localhost:8080/"
        },
        "id": "iiqCxC9bV24Y",
        "outputId": "4d196ac3-2cdc-4c2f-dcf6-dce9b3b6bf9f"
      },
      "outputs": [
        {
          "data": {
            "text/plain": [
              "['/content/drive/MyDrive/data/scaler model/standard_scaler21-main1.save']"
            ]
          },
          "execution_count": 22,
          "metadata": {},
          "output_type": "execute_result"
        }
      ],
      "source": [
        "joblib.dump(standard_scaler, \"/content/drive/MyDrive/data/scaler model/standard_scaler21-main1.save\")"
      ]
    },
    {
      "cell_type": "markdown",
      "metadata": {
        "id": "Jy-hv73bnuuh"
      },
      "source": [
        "# 5. Evaluate Model"
      ]
    },
    {
      "cell_type": "code",
      "execution_count": 23,
      "metadata": {
        "colab": {
          "base_uri": "https://localhost:8080/",
          "height": 559
        },
        "id": "8iOkjKNBnyiu",
        "outputId": "d33b0308-f2f2-4fcd-bcc9-33224f52c9d5"
      },
      "outputs": [
        {
          "data": {
            "text/html": [
              "<html>\n",
              "<head><meta charset=\"utf-8\" /></head>\n",
              "<body>\n",
              "    <div>            <script src=\"https://cdnjs.cloudflare.com/ajax/libs/mathjax/2.7.5/MathJax.js?config=TeX-AMS-MML_SVG\"></script><script type=\"text/javascript\">if (window.MathJax && window.MathJax.Hub && window.MathJax.Hub.Config) {window.MathJax.Hub.Config({SVG: {font: \"STIX-Web\"}});}</script>                <script type=\"text/javascript\">window.PlotlyConfig = {MathJaxConfig: 'local'};</script>\n",
              "        <script charset=\"utf-8\" src=\"https://cdn.plot.ly/plotly-2.24.1.min.js\"></script>                <div id=\"11d85b4b-3373-4969-b4b4-d53006553e61\" class=\"plotly-graph-div\" style=\"height:525px; width:100%;\"></div>            <script type=\"text/javascript\">                                    window.PLOTLYENV=window.PLOTLYENV || {};                                    if (document.getElementById(\"11d85b4b-3373-4969-b4b4-d53006553e61\")) {                    Plotly.newPlot(                        \"11d85b4b-3373-4969-b4b4-d53006553e61\",                        [{\"hovertemplate\":\"variable=loss\\u003cbr\\u003eEpoch=%{x}\\u003cbr\\u003eLoss=%{y}\\u003cextra\\u003e\\u003c\\u002fextra\\u003e\",\"legendgroup\":\"loss\",\"line\":{\"color\":\"#636efa\",\"dash\":\"solid\"},\"marker\":{\"symbol\":\"circle\"},\"mode\":\"lines\",\"name\":\"loss\",\"orientation\":\"v\",\"showlegend\":true,\"x\":[0,1,2,3,4,5,6,7,8,9,10,11,12,13,14,15,16,17,18,19],\"xaxis\":\"x\",\"y\":[0.32377779483795166,0.17389564216136932,0.12352199852466583,0.10426899045705795,0.09405019879341125,0.08495987951755524,0.06902696937322617,0.0649251788854599,0.05864647030830383,0.053420811891555786,0.048148415982723236,0.04561985284090042,0.041439641267061234,0.04272105544805527,0.03760664537549019,0.03584282472729683,0.0330544151365757,0.03400876000523567,0.03248639032244682,0.026939887553453445],\"yaxis\":\"y\",\"type\":\"scatter\"},{\"hovertemplate\":\"variable=val_loss\\u003cbr\\u003eEpoch=%{x}\\u003cbr\\u003eLoss=%{y}\\u003cextra\\u003e\\u003c\\u002fextra\\u003e\",\"legendgroup\":\"val_loss\",\"line\":{\"color\":\"#EF553B\",\"dash\":\"solid\"},\"marker\":{\"symbol\":\"circle\"},\"mode\":\"lines\",\"name\":\"val_loss\",\"orientation\":\"v\",\"showlegend\":true,\"x\":[0,1,2,3,4,5,6,7,8,9,10,11,12,13,14,15,16,17,18,19],\"xaxis\":\"x\",\"y\":[0.6965256333351135,1.0715831518173218,1.3326683044433594,1.4791609048843384,0.24325025081634521,0.13826926052570343,0.11685687303543091,0.09017322957515717,0.18259350955486298,0.08969943970441818,0.12140049040317535,0.12339694052934647,0.2136399894952774,0.13281607627868652,0.09581132233142853,0.12089157104492188,0.11603963375091553,0.19120346009731293,0.18627595901489258,0.14036069810390472],\"yaxis\":\"y\",\"type\":\"scatter\"}],                        {\"template\":{\"data\":{\"histogram2dcontour\":[{\"type\":\"histogram2dcontour\",\"colorbar\":{\"outlinewidth\":0,\"ticks\":\"\"},\"colorscale\":[[0.0,\"#0d0887\"],[0.1111111111111111,\"#46039f\"],[0.2222222222222222,\"#7201a8\"],[0.3333333333333333,\"#9c179e\"],[0.4444444444444444,\"#bd3786\"],[0.5555555555555556,\"#d8576b\"],[0.6666666666666666,\"#ed7953\"],[0.7777777777777778,\"#fb9f3a\"],[0.8888888888888888,\"#fdca26\"],[1.0,\"#f0f921\"]]}],\"choropleth\":[{\"type\":\"choropleth\",\"colorbar\":{\"outlinewidth\":0,\"ticks\":\"\"}}],\"histogram2d\":[{\"type\":\"histogram2d\",\"colorbar\":{\"outlinewidth\":0,\"ticks\":\"\"},\"colorscale\":[[0.0,\"#0d0887\"],[0.1111111111111111,\"#46039f\"],[0.2222222222222222,\"#7201a8\"],[0.3333333333333333,\"#9c179e\"],[0.4444444444444444,\"#bd3786\"],[0.5555555555555556,\"#d8576b\"],[0.6666666666666666,\"#ed7953\"],[0.7777777777777778,\"#fb9f3a\"],[0.8888888888888888,\"#fdca26\"],[1.0,\"#f0f921\"]]}],\"heatmap\":[{\"type\":\"heatmap\",\"colorbar\":{\"outlinewidth\":0,\"ticks\":\"\"},\"colorscale\":[[0.0,\"#0d0887\"],[0.1111111111111111,\"#46039f\"],[0.2222222222222222,\"#7201a8\"],[0.3333333333333333,\"#9c179e\"],[0.4444444444444444,\"#bd3786\"],[0.5555555555555556,\"#d8576b\"],[0.6666666666666666,\"#ed7953\"],[0.7777777777777778,\"#fb9f3a\"],[0.8888888888888888,\"#fdca26\"],[1.0,\"#f0f921\"]]}],\"heatmapgl\":[{\"type\":\"heatmapgl\",\"colorbar\":{\"outlinewidth\":0,\"ticks\":\"\"},\"colorscale\":[[0.0,\"#0d0887\"],[0.1111111111111111,\"#46039f\"],[0.2222222222222222,\"#7201a8\"],[0.3333333333333333,\"#9c179e\"],[0.4444444444444444,\"#bd3786\"],[0.5555555555555556,\"#d8576b\"],[0.6666666666666666,\"#ed7953\"],[0.7777777777777778,\"#fb9f3a\"],[0.8888888888888888,\"#fdca26\"],[1.0,\"#f0f921\"]]}],\"contourcarpet\":[{\"type\":\"contourcarpet\",\"colorbar\":{\"outlinewidth\":0,\"ticks\":\"\"}}],\"contour\":[{\"type\":\"contour\",\"colorbar\":{\"outlinewidth\":0,\"ticks\":\"\"},\"colorscale\":[[0.0,\"#0d0887\"],[0.1111111111111111,\"#46039f\"],[0.2222222222222222,\"#7201a8\"],[0.3333333333333333,\"#9c179e\"],[0.4444444444444444,\"#bd3786\"],[0.5555555555555556,\"#d8576b\"],[0.6666666666666666,\"#ed7953\"],[0.7777777777777778,\"#fb9f3a\"],[0.8888888888888888,\"#fdca26\"],[1.0,\"#f0f921\"]]}],\"surface\":[{\"type\":\"surface\",\"colorbar\":{\"outlinewidth\":0,\"ticks\":\"\"},\"colorscale\":[[0.0,\"#0d0887\"],[0.1111111111111111,\"#46039f\"],[0.2222222222222222,\"#7201a8\"],[0.3333333333333333,\"#9c179e\"],[0.4444444444444444,\"#bd3786\"],[0.5555555555555556,\"#d8576b\"],[0.6666666666666666,\"#ed7953\"],[0.7777777777777778,\"#fb9f3a\"],[0.8888888888888888,\"#fdca26\"],[1.0,\"#f0f921\"]]}],\"mesh3d\":[{\"type\":\"mesh3d\",\"colorbar\":{\"outlinewidth\":0,\"ticks\":\"\"}}],\"scatter\":[{\"fillpattern\":{\"fillmode\":\"overlay\",\"size\":10,\"solidity\":0.2},\"type\":\"scatter\"}],\"parcoords\":[{\"type\":\"parcoords\",\"line\":{\"colorbar\":{\"outlinewidth\":0,\"ticks\":\"\"}}}],\"scatterpolargl\":[{\"type\":\"scatterpolargl\",\"marker\":{\"colorbar\":{\"outlinewidth\":0,\"ticks\":\"\"}}}],\"bar\":[{\"error_x\":{\"color\":\"#2a3f5f\"},\"error_y\":{\"color\":\"#2a3f5f\"},\"marker\":{\"line\":{\"color\":\"#E5ECF6\",\"width\":0.5},\"pattern\":{\"fillmode\":\"overlay\",\"size\":10,\"solidity\":0.2}},\"type\":\"bar\"}],\"scattergeo\":[{\"type\":\"scattergeo\",\"marker\":{\"colorbar\":{\"outlinewidth\":0,\"ticks\":\"\"}}}],\"scatterpolar\":[{\"type\":\"scatterpolar\",\"marker\":{\"colorbar\":{\"outlinewidth\":0,\"ticks\":\"\"}}}],\"histogram\":[{\"marker\":{\"pattern\":{\"fillmode\":\"overlay\",\"size\":10,\"solidity\":0.2}},\"type\":\"histogram\"}],\"scattergl\":[{\"type\":\"scattergl\",\"marker\":{\"colorbar\":{\"outlinewidth\":0,\"ticks\":\"\"}}}],\"scatter3d\":[{\"type\":\"scatter3d\",\"line\":{\"colorbar\":{\"outlinewidth\":0,\"ticks\":\"\"}},\"marker\":{\"colorbar\":{\"outlinewidth\":0,\"ticks\":\"\"}}}],\"scattermapbox\":[{\"type\":\"scattermapbox\",\"marker\":{\"colorbar\":{\"outlinewidth\":0,\"ticks\":\"\"}}}],\"scatterternary\":[{\"type\":\"scatterternary\",\"marker\":{\"colorbar\":{\"outlinewidth\":0,\"ticks\":\"\"}}}],\"scattercarpet\":[{\"type\":\"scattercarpet\",\"marker\":{\"colorbar\":{\"outlinewidth\":0,\"ticks\":\"\"}}}],\"carpet\":[{\"aaxis\":{\"endlinecolor\":\"#2a3f5f\",\"gridcolor\":\"white\",\"linecolor\":\"white\",\"minorgridcolor\":\"white\",\"startlinecolor\":\"#2a3f5f\"},\"baxis\":{\"endlinecolor\":\"#2a3f5f\",\"gridcolor\":\"white\",\"linecolor\":\"white\",\"minorgridcolor\":\"white\",\"startlinecolor\":\"#2a3f5f\"},\"type\":\"carpet\"}],\"table\":[{\"cells\":{\"fill\":{\"color\":\"#EBF0F8\"},\"line\":{\"color\":\"white\"}},\"header\":{\"fill\":{\"color\":\"#C8D4E3\"},\"line\":{\"color\":\"white\"}},\"type\":\"table\"}],\"barpolar\":[{\"marker\":{\"line\":{\"color\":\"#E5ECF6\",\"width\":0.5},\"pattern\":{\"fillmode\":\"overlay\",\"size\":10,\"solidity\":0.2}},\"type\":\"barpolar\"}],\"pie\":[{\"automargin\":true,\"type\":\"pie\"}]},\"layout\":{\"autotypenumbers\":\"strict\",\"colorway\":[\"#636efa\",\"#EF553B\",\"#00cc96\",\"#ab63fa\",\"#FFA15A\",\"#19d3f3\",\"#FF6692\",\"#B6E880\",\"#FF97FF\",\"#FECB52\"],\"font\":{\"color\":\"#2a3f5f\"},\"hovermode\":\"closest\",\"hoverlabel\":{\"align\":\"left\"},\"paper_bgcolor\":\"white\",\"plot_bgcolor\":\"#E5ECF6\",\"polar\":{\"bgcolor\":\"#E5ECF6\",\"angularaxis\":{\"gridcolor\":\"white\",\"linecolor\":\"white\",\"ticks\":\"\"},\"radialaxis\":{\"gridcolor\":\"white\",\"linecolor\":\"white\",\"ticks\":\"\"}},\"ternary\":{\"bgcolor\":\"#E5ECF6\",\"aaxis\":{\"gridcolor\":\"white\",\"linecolor\":\"white\",\"ticks\":\"\"},\"baxis\":{\"gridcolor\":\"white\",\"linecolor\":\"white\",\"ticks\":\"\"},\"caxis\":{\"gridcolor\":\"white\",\"linecolor\":\"white\",\"ticks\":\"\"}},\"coloraxis\":{\"colorbar\":{\"outlinewidth\":0,\"ticks\":\"\"}},\"colorscale\":{\"sequential\":[[0.0,\"#0d0887\"],[0.1111111111111111,\"#46039f\"],[0.2222222222222222,\"#7201a8\"],[0.3333333333333333,\"#9c179e\"],[0.4444444444444444,\"#bd3786\"],[0.5555555555555556,\"#d8576b\"],[0.6666666666666666,\"#ed7953\"],[0.7777777777777778,\"#fb9f3a\"],[0.8888888888888888,\"#fdca26\"],[1.0,\"#f0f921\"]],\"sequentialminus\":[[0.0,\"#0d0887\"],[0.1111111111111111,\"#46039f\"],[0.2222222222222222,\"#7201a8\"],[0.3333333333333333,\"#9c179e\"],[0.4444444444444444,\"#bd3786\"],[0.5555555555555556,\"#d8576b\"],[0.6666666666666666,\"#ed7953\"],[0.7777777777777778,\"#fb9f3a\"],[0.8888888888888888,\"#fdca26\"],[1.0,\"#f0f921\"]],\"diverging\":[[0,\"#8e0152\"],[0.1,\"#c51b7d\"],[0.2,\"#de77ae\"],[0.3,\"#f1b6da\"],[0.4,\"#fde0ef\"],[0.5,\"#f7f7f7\"],[0.6,\"#e6f5d0\"],[0.7,\"#b8e186\"],[0.8,\"#7fbc41\"],[0.9,\"#4d9221\"],[1,\"#276419\"]]},\"xaxis\":{\"gridcolor\":\"white\",\"linecolor\":\"white\",\"ticks\":\"\",\"title\":{\"standoff\":15},\"zerolinecolor\":\"white\",\"automargin\":true,\"zerolinewidth\":2},\"yaxis\":{\"gridcolor\":\"white\",\"linecolor\":\"white\",\"ticks\":\"\",\"title\":{\"standoff\":15},\"zerolinecolor\":\"white\",\"automargin\":true,\"zerolinewidth\":2},\"scene\":{\"xaxis\":{\"backgroundcolor\":\"#E5ECF6\",\"gridcolor\":\"white\",\"linecolor\":\"white\",\"showbackground\":true,\"ticks\":\"\",\"zerolinecolor\":\"white\",\"gridwidth\":2},\"yaxis\":{\"backgroundcolor\":\"#E5ECF6\",\"gridcolor\":\"white\",\"linecolor\":\"white\",\"showbackground\":true,\"ticks\":\"\",\"zerolinecolor\":\"white\",\"gridwidth\":2},\"zaxis\":{\"backgroundcolor\":\"#E5ECF6\",\"gridcolor\":\"white\",\"linecolor\":\"white\",\"showbackground\":true,\"ticks\":\"\",\"zerolinecolor\":\"white\",\"gridwidth\":2}},\"shapedefaults\":{\"line\":{\"color\":\"#2a3f5f\"}},\"annotationdefaults\":{\"arrowcolor\":\"#2a3f5f\",\"arrowhead\":0,\"arrowwidth\":1},\"geo\":{\"bgcolor\":\"white\",\"landcolor\":\"#E5ECF6\",\"subunitcolor\":\"white\",\"showland\":true,\"showlakes\":true,\"lakecolor\":\"white\"},\"title\":{\"x\":0.05},\"mapbox\":{\"style\":\"light\"}}},\"xaxis\":{\"anchor\":\"y\",\"domain\":[0.0,1.0],\"title\":{\"text\":\"Epoch\"}},\"yaxis\":{\"anchor\":\"x\",\"domain\":[0.0,1.0],\"title\":{\"text\":\"Loss\"}},\"legend\":{\"title\":{\"text\":\"variable\"},\"tracegroupgap\":0},\"title\":{\"text\":\"Loss vs Epoch\"}},                        {\"responsive\": true}                    ).then(function(){\n",
              "                            \n",
              "var gd = document.getElementById('11d85b4b-3373-4969-b4b4-d53006553e61');\n",
              "var x = new MutationObserver(function (mutations, observer) {{\n",
              "        var display = window.getComputedStyle(gd).display;\n",
              "        if (!display || display === 'none') {{\n",
              "            console.log([gd, 'removed!']);\n",
              "            Plotly.purge(gd);\n",
              "            observer.disconnect();\n",
              "        }}\n",
              "}});\n",
              "\n",
              "// Listen for the removal of the full notebook cells\n",
              "var notebookContainer = gd.closest('#notebook-container');\n",
              "if (notebookContainer) {{\n",
              "    x.observe(notebookContainer, {childList: true});\n",
              "}}\n",
              "\n",
              "// Listen for the clearing of the current output cell\n",
              "var outputEl = gd.closest('.output');\n",
              "if (outputEl) {{\n",
              "    x.observe(outputEl, {childList: true});\n",
              "}}\n",
              "\n",
              "                        })                };                            </script>        </div>\n",
              "</body>\n",
              "</html>"
            ]
          },
          "metadata": {},
          "output_type": "display_data"
        },
        {
          "data": {
            "text/plain": [
              "dict_keys(['loss', 'accuracy', 'val_loss', 'val_accuracy', 'lr'])"
            ]
          },
          "execution_count": 23,
          "metadata": {},
          "output_type": "execute_result"
        }
      ],
      "source": [
        "fig = px.line(data_frame = history_callback_object.history,\n",
        "              y = ['loss', 'val_loss'],\n",
        "              labels = {'index':'Epoch', 'value':'Loss'},\n",
        "              title = 'Loss vs Epoch')\n",
        "fig.show()\n",
        "\n",
        "history_callback_object.history.keys()"
      ]
    },
    {
      "cell_type": "code",
      "execution_count": 24,
      "metadata": {
        "colab": {
          "base_uri": "https://localhost:8080/",
          "height": 559
        },
        "id": "jpBUUf57McGh",
        "outputId": "ff65df66-2f1d-4ec1-ace2-86543e1bf116"
      },
      "outputs": [
        {
          "data": {
            "text/html": [
              "<html>\n",
              "<head><meta charset=\"utf-8\" /></head>\n",
              "<body>\n",
              "    <div>            <script src=\"https://cdnjs.cloudflare.com/ajax/libs/mathjax/2.7.5/MathJax.js?config=TeX-AMS-MML_SVG\"></script><script type=\"text/javascript\">if (window.MathJax && window.MathJax.Hub && window.MathJax.Hub.Config) {window.MathJax.Hub.Config({SVG: {font: \"STIX-Web\"}});}</script>                <script type=\"text/javascript\">window.PlotlyConfig = {MathJaxConfig: 'local'};</script>\n",
              "        <script charset=\"utf-8\" src=\"https://cdn.plot.ly/plotly-2.24.1.min.js\"></script>                <div id=\"7cdf1635-0bce-42b7-a208-56f8a529d904\" class=\"plotly-graph-div\" style=\"height:525px; width:100%;\"></div>            <script type=\"text/javascript\">                                    window.PLOTLYENV=window.PLOTLYENV || {};                                    if (document.getElementById(\"7cdf1635-0bce-42b7-a208-56f8a529d904\")) {                    Plotly.newPlot(                        \"7cdf1635-0bce-42b7-a208-56f8a529d904\",                        [{\"hovertemplate\":\"variable=accuracy\\u003cbr\\u003eEpoch=%{x}\\u003cbr\\u003eAccuracy=%{y}\\u003cextra\\u003e\\u003c\\u002fextra\\u003e\",\"legendgroup\":\"accuracy\",\"line\":{\"color\":\"#636efa\",\"dash\":\"solid\"},\"marker\":{\"symbol\":\"circle\"},\"mode\":\"lines\",\"name\":\"accuracy\",\"orientation\":\"v\",\"showlegend\":true,\"x\":[0,1,2,3,4,5,6,7,8,9,10,11,12,13,14,15,16,17,18,19],\"xaxis\":\"x\",\"y\":[0.8763437271118164,0.9383124709129333,0.9547187685966492,0.9629374742507935,0.964968740940094,0.9690937399864197,0.9754062294960022,0.9755312204360962,0.9789999723434448,0.9797187447547913,0.9821249842643738,0.9826250076293945,0.9853749871253967,0.9842187762260437,0.9863437414169312,0.9866562485694885,0.9877187609672546,0.987625002861023,0.9884687662124634,0.9904375076293945],\"yaxis\":\"y\",\"type\":\"scatter\"},{\"hovertemplate\":\"variable=val_accuracy\\u003cbr\\u003eEpoch=%{x}\\u003cbr\\u003eAccuracy=%{y}\\u003cextra\\u003e\\u003c\\u002fextra\\u003e\",\"legendgroup\":\"val_accuracy\",\"line\":{\"color\":\"#EF553B\",\"dash\":\"solid\"},\"marker\":{\"symbol\":\"circle\"},\"mode\":\"lines\",\"name\":\"val_accuracy\",\"orientation\":\"v\",\"showlegend\":true,\"x\":[0,1,2,3,4,5,6,7,8,9,10,11,12,13,14,15,16,17,18,19],\"xaxis\":\"x\",\"y\":[0.476500004529953,0.49300000071525574,0.4762499928474426,0.4790000021457672,0.9097499847412109,0.9480000138282776,0.9617499709129333,0.9710000157356262,0.9367499947547913,0.9732499718666077,0.9587500095367432,0.9602500200271606,0.9457499980926514,0.9620000123977661,0.9649999737739563,0.9605000019073486,0.9649999737739563,0.9477499723434448,0.9580000042915344,0.9647499918937683],\"yaxis\":\"y\",\"type\":\"scatter\"}],                        {\"template\":{\"data\":{\"histogram2dcontour\":[{\"type\":\"histogram2dcontour\",\"colorbar\":{\"outlinewidth\":0,\"ticks\":\"\"},\"colorscale\":[[0.0,\"#0d0887\"],[0.1111111111111111,\"#46039f\"],[0.2222222222222222,\"#7201a8\"],[0.3333333333333333,\"#9c179e\"],[0.4444444444444444,\"#bd3786\"],[0.5555555555555556,\"#d8576b\"],[0.6666666666666666,\"#ed7953\"],[0.7777777777777778,\"#fb9f3a\"],[0.8888888888888888,\"#fdca26\"],[1.0,\"#f0f921\"]]}],\"choropleth\":[{\"type\":\"choropleth\",\"colorbar\":{\"outlinewidth\":0,\"ticks\":\"\"}}],\"histogram2d\":[{\"type\":\"histogram2d\",\"colorbar\":{\"outlinewidth\":0,\"ticks\":\"\"},\"colorscale\":[[0.0,\"#0d0887\"],[0.1111111111111111,\"#46039f\"],[0.2222222222222222,\"#7201a8\"],[0.3333333333333333,\"#9c179e\"],[0.4444444444444444,\"#bd3786\"],[0.5555555555555556,\"#d8576b\"],[0.6666666666666666,\"#ed7953\"],[0.7777777777777778,\"#fb9f3a\"],[0.8888888888888888,\"#fdca26\"],[1.0,\"#f0f921\"]]}],\"heatmap\":[{\"type\":\"heatmap\",\"colorbar\":{\"outlinewidth\":0,\"ticks\":\"\"},\"colorscale\":[[0.0,\"#0d0887\"],[0.1111111111111111,\"#46039f\"],[0.2222222222222222,\"#7201a8\"],[0.3333333333333333,\"#9c179e\"],[0.4444444444444444,\"#bd3786\"],[0.5555555555555556,\"#d8576b\"],[0.6666666666666666,\"#ed7953\"],[0.7777777777777778,\"#fb9f3a\"],[0.8888888888888888,\"#fdca26\"],[1.0,\"#f0f921\"]]}],\"heatmapgl\":[{\"type\":\"heatmapgl\",\"colorbar\":{\"outlinewidth\":0,\"ticks\":\"\"},\"colorscale\":[[0.0,\"#0d0887\"],[0.1111111111111111,\"#46039f\"],[0.2222222222222222,\"#7201a8\"],[0.3333333333333333,\"#9c179e\"],[0.4444444444444444,\"#bd3786\"],[0.5555555555555556,\"#d8576b\"],[0.6666666666666666,\"#ed7953\"],[0.7777777777777778,\"#fb9f3a\"],[0.8888888888888888,\"#fdca26\"],[1.0,\"#f0f921\"]]}],\"contourcarpet\":[{\"type\":\"contourcarpet\",\"colorbar\":{\"outlinewidth\":0,\"ticks\":\"\"}}],\"contour\":[{\"type\":\"contour\",\"colorbar\":{\"outlinewidth\":0,\"ticks\":\"\"},\"colorscale\":[[0.0,\"#0d0887\"],[0.1111111111111111,\"#46039f\"],[0.2222222222222222,\"#7201a8\"],[0.3333333333333333,\"#9c179e\"],[0.4444444444444444,\"#bd3786\"],[0.5555555555555556,\"#d8576b\"],[0.6666666666666666,\"#ed7953\"],[0.7777777777777778,\"#fb9f3a\"],[0.8888888888888888,\"#fdca26\"],[1.0,\"#f0f921\"]]}],\"surface\":[{\"type\":\"surface\",\"colorbar\":{\"outlinewidth\":0,\"ticks\":\"\"},\"colorscale\":[[0.0,\"#0d0887\"],[0.1111111111111111,\"#46039f\"],[0.2222222222222222,\"#7201a8\"],[0.3333333333333333,\"#9c179e\"],[0.4444444444444444,\"#bd3786\"],[0.5555555555555556,\"#d8576b\"],[0.6666666666666666,\"#ed7953\"],[0.7777777777777778,\"#fb9f3a\"],[0.8888888888888888,\"#fdca26\"],[1.0,\"#f0f921\"]]}],\"mesh3d\":[{\"type\":\"mesh3d\",\"colorbar\":{\"outlinewidth\":0,\"ticks\":\"\"}}],\"scatter\":[{\"fillpattern\":{\"fillmode\":\"overlay\",\"size\":10,\"solidity\":0.2},\"type\":\"scatter\"}],\"parcoords\":[{\"type\":\"parcoords\",\"line\":{\"colorbar\":{\"outlinewidth\":0,\"ticks\":\"\"}}}],\"scatterpolargl\":[{\"type\":\"scatterpolargl\",\"marker\":{\"colorbar\":{\"outlinewidth\":0,\"ticks\":\"\"}}}],\"bar\":[{\"error_x\":{\"color\":\"#2a3f5f\"},\"error_y\":{\"color\":\"#2a3f5f\"},\"marker\":{\"line\":{\"color\":\"#E5ECF6\",\"width\":0.5},\"pattern\":{\"fillmode\":\"overlay\",\"size\":10,\"solidity\":0.2}},\"type\":\"bar\"}],\"scattergeo\":[{\"type\":\"scattergeo\",\"marker\":{\"colorbar\":{\"outlinewidth\":0,\"ticks\":\"\"}}}],\"scatterpolar\":[{\"type\":\"scatterpolar\",\"marker\":{\"colorbar\":{\"outlinewidth\":0,\"ticks\":\"\"}}}],\"histogram\":[{\"marker\":{\"pattern\":{\"fillmode\":\"overlay\",\"size\":10,\"solidity\":0.2}},\"type\":\"histogram\"}],\"scattergl\":[{\"type\":\"scattergl\",\"marker\":{\"colorbar\":{\"outlinewidth\":0,\"ticks\":\"\"}}}],\"scatter3d\":[{\"type\":\"scatter3d\",\"line\":{\"colorbar\":{\"outlinewidth\":0,\"ticks\":\"\"}},\"marker\":{\"colorbar\":{\"outlinewidth\":0,\"ticks\":\"\"}}}],\"scattermapbox\":[{\"type\":\"scattermapbox\",\"marker\":{\"colorbar\":{\"outlinewidth\":0,\"ticks\":\"\"}}}],\"scatterternary\":[{\"type\":\"scatterternary\",\"marker\":{\"colorbar\":{\"outlinewidth\":0,\"ticks\":\"\"}}}],\"scattercarpet\":[{\"type\":\"scattercarpet\",\"marker\":{\"colorbar\":{\"outlinewidth\":0,\"ticks\":\"\"}}}],\"carpet\":[{\"aaxis\":{\"endlinecolor\":\"#2a3f5f\",\"gridcolor\":\"white\",\"linecolor\":\"white\",\"minorgridcolor\":\"white\",\"startlinecolor\":\"#2a3f5f\"},\"baxis\":{\"endlinecolor\":\"#2a3f5f\",\"gridcolor\":\"white\",\"linecolor\":\"white\",\"minorgridcolor\":\"white\",\"startlinecolor\":\"#2a3f5f\"},\"type\":\"carpet\"}],\"table\":[{\"cells\":{\"fill\":{\"color\":\"#EBF0F8\"},\"line\":{\"color\":\"white\"}},\"header\":{\"fill\":{\"color\":\"#C8D4E3\"},\"line\":{\"color\":\"white\"}},\"type\":\"table\"}],\"barpolar\":[{\"marker\":{\"line\":{\"color\":\"#E5ECF6\",\"width\":0.5},\"pattern\":{\"fillmode\":\"overlay\",\"size\":10,\"solidity\":0.2}},\"type\":\"barpolar\"}],\"pie\":[{\"automargin\":true,\"type\":\"pie\"}]},\"layout\":{\"autotypenumbers\":\"strict\",\"colorway\":[\"#636efa\",\"#EF553B\",\"#00cc96\",\"#ab63fa\",\"#FFA15A\",\"#19d3f3\",\"#FF6692\",\"#B6E880\",\"#FF97FF\",\"#FECB52\"],\"font\":{\"color\":\"#2a3f5f\"},\"hovermode\":\"closest\",\"hoverlabel\":{\"align\":\"left\"},\"paper_bgcolor\":\"white\",\"plot_bgcolor\":\"#E5ECF6\",\"polar\":{\"bgcolor\":\"#E5ECF6\",\"angularaxis\":{\"gridcolor\":\"white\",\"linecolor\":\"white\",\"ticks\":\"\"},\"radialaxis\":{\"gridcolor\":\"white\",\"linecolor\":\"white\",\"ticks\":\"\"}},\"ternary\":{\"bgcolor\":\"#E5ECF6\",\"aaxis\":{\"gridcolor\":\"white\",\"linecolor\":\"white\",\"ticks\":\"\"},\"baxis\":{\"gridcolor\":\"white\",\"linecolor\":\"white\",\"ticks\":\"\"},\"caxis\":{\"gridcolor\":\"white\",\"linecolor\":\"white\",\"ticks\":\"\"}},\"coloraxis\":{\"colorbar\":{\"outlinewidth\":0,\"ticks\":\"\"}},\"colorscale\":{\"sequential\":[[0.0,\"#0d0887\"],[0.1111111111111111,\"#46039f\"],[0.2222222222222222,\"#7201a8\"],[0.3333333333333333,\"#9c179e\"],[0.4444444444444444,\"#bd3786\"],[0.5555555555555556,\"#d8576b\"],[0.6666666666666666,\"#ed7953\"],[0.7777777777777778,\"#fb9f3a\"],[0.8888888888888888,\"#fdca26\"],[1.0,\"#f0f921\"]],\"sequentialminus\":[[0.0,\"#0d0887\"],[0.1111111111111111,\"#46039f\"],[0.2222222222222222,\"#7201a8\"],[0.3333333333333333,\"#9c179e\"],[0.4444444444444444,\"#bd3786\"],[0.5555555555555556,\"#d8576b\"],[0.6666666666666666,\"#ed7953\"],[0.7777777777777778,\"#fb9f3a\"],[0.8888888888888888,\"#fdca26\"],[1.0,\"#f0f921\"]],\"diverging\":[[0,\"#8e0152\"],[0.1,\"#c51b7d\"],[0.2,\"#de77ae\"],[0.3,\"#f1b6da\"],[0.4,\"#fde0ef\"],[0.5,\"#f7f7f7\"],[0.6,\"#e6f5d0\"],[0.7,\"#b8e186\"],[0.8,\"#7fbc41\"],[0.9,\"#4d9221\"],[1,\"#276419\"]]},\"xaxis\":{\"gridcolor\":\"white\",\"linecolor\":\"white\",\"ticks\":\"\",\"title\":{\"standoff\":15},\"zerolinecolor\":\"white\",\"automargin\":true,\"zerolinewidth\":2},\"yaxis\":{\"gridcolor\":\"white\",\"linecolor\":\"white\",\"ticks\":\"\",\"title\":{\"standoff\":15},\"zerolinecolor\":\"white\",\"automargin\":true,\"zerolinewidth\":2},\"scene\":{\"xaxis\":{\"backgroundcolor\":\"#E5ECF6\",\"gridcolor\":\"white\",\"linecolor\":\"white\",\"showbackground\":true,\"ticks\":\"\",\"zerolinecolor\":\"white\",\"gridwidth\":2},\"yaxis\":{\"backgroundcolor\":\"#E5ECF6\",\"gridcolor\":\"white\",\"linecolor\":\"white\",\"showbackground\":true,\"ticks\":\"\",\"zerolinecolor\":\"white\",\"gridwidth\":2},\"zaxis\":{\"backgroundcolor\":\"#E5ECF6\",\"gridcolor\":\"white\",\"linecolor\":\"white\",\"showbackground\":true,\"ticks\":\"\",\"zerolinecolor\":\"white\",\"gridwidth\":2}},\"shapedefaults\":{\"line\":{\"color\":\"#2a3f5f\"}},\"annotationdefaults\":{\"arrowcolor\":\"#2a3f5f\",\"arrowhead\":0,\"arrowwidth\":1},\"geo\":{\"bgcolor\":\"white\",\"landcolor\":\"#E5ECF6\",\"subunitcolor\":\"white\",\"showland\":true,\"showlakes\":true,\"lakecolor\":\"white\"},\"title\":{\"x\":0.05},\"mapbox\":{\"style\":\"light\"}}},\"xaxis\":{\"anchor\":\"y\",\"domain\":[0.0,1.0],\"title\":{\"text\":\"Epoch\"}},\"yaxis\":{\"anchor\":\"x\",\"domain\":[0.0,1.0],\"title\":{\"text\":\"Accuracy\"}},\"legend\":{\"title\":{\"text\":\"variable\"},\"tracegroupgap\":0},\"title\":{\"text\":\"Accuracy vs Epoch\"}},                        {\"responsive\": true}                    ).then(function(){\n",
              "                            \n",
              "var gd = document.getElementById('7cdf1635-0bce-42b7-a208-56f8a529d904');\n",
              "var x = new MutationObserver(function (mutations, observer) {{\n",
              "        var display = window.getComputedStyle(gd).display;\n",
              "        if (!display || display === 'none') {{\n",
              "            console.log([gd, 'removed!']);\n",
              "            Plotly.purge(gd);\n",
              "            observer.disconnect();\n",
              "        }}\n",
              "}});\n",
              "\n",
              "// Listen for the removal of the full notebook cells\n",
              "var notebookContainer = gd.closest('#notebook-container');\n",
              "if (notebookContainer) {{\n",
              "    x.observe(notebookContainer, {childList: true});\n",
              "}}\n",
              "\n",
              "// Listen for the clearing of the current output cell\n",
              "var outputEl = gd.closest('.output');\n",
              "if (outputEl) {{\n",
              "    x.observe(outputEl, {childList: true});\n",
              "}}\n",
              "\n",
              "                        })                };                            </script>        </div>\n",
              "</body>\n",
              "</html>"
            ]
          },
          "metadata": {},
          "output_type": "display_data"
        },
        {
          "data": {
            "text/plain": [
              "dict_keys(['loss', 'accuracy', 'val_loss', 'val_accuracy', 'lr'])"
            ]
          },
          "execution_count": 24,
          "metadata": {},
          "output_type": "execute_result"
        }
      ],
      "source": [
        "fig = px.line(data_frame = history_callback_object.history,\n",
        "              y = ['accuracy', 'val_accuracy'],\n",
        "              labels = {'index':'Epoch', 'value':'Accuracy'},\n",
        "              title = 'Accuracy vs Epoch')\n",
        "fig.show()\n",
        "\n",
        "history_callback_object.history.keys()"
      ]
    },
    {
      "cell_type": "code",
      "execution_count": 25,
      "metadata": {
        "colab": {
          "base_uri": "https://localhost:8080/",
          "height": 608
        },
        "id": "aHBP7L1JMpTO",
        "outputId": "1ce4eb47-7ffb-4841-9bf5-d1e82a0e51d9"
      },
      "outputs": [
        {
          "data": {
            "image/png": "[encoded data removed]",
            "text/plain": [
              "<Figure size 3500x1000 with 2 Axes>"
            ]
          },
          "metadata": {},
          "output_type": "display_data"
        },
        {
          "data": {
            "text/plain": [
              "dict_keys(['loss', 'accuracy', 'val_loss', 'val_accuracy', 'lr'])"
            ]
          },
          "execution_count": 25,
          "metadata": {},
          "output_type": "execute_result"
        }
      ],
      "source": [
        "fig, (ax1, ax2) = plt.subplots(1, 2)\n",
        "ax1.plot(history_callback_object.history['loss'], label = 'loss')\n",
        "ax1.plot(history_callback_object.history['val_loss'], label = 'val_loss')\n",
        "ax1.legend()\n",
        "ax1.set_xlabel('Epoch')\n",
        "ax1.set_ylabel('Loss')\n",
        "ax1.set_title('Loss vs Epoch')\n",
        "ax1.grid(True)\n",
        "\n",
        "ax2.plot(history_callback_object.history['accuracy'], label = 'accuracy')\n",
        "ax2.plot(history_callback_object.history['val_accuracy'], label = 'val_accuracy')\n",
        "ax2.legend()\n",
        "ax2.set_xlabel('Epoch')\n",
        "ax2.set_ylabel('Accuracy')\n",
        "ax2.set_title('Accuracy vs Epoch')\n",
        "ax2.grid(True)\n",
        "\n",
        "fig.set_figheight(10)\n",
        "fig.set_figwidth(35)\n",
        "plt.show()\n",
        "\n",
        "history_callback_object.history.keys()"
      ]
    },
    {
      "cell_type": "markdown",
      "metadata": {
        "id": "8aOka7eUnz1t"
      },
      "source": [
        "# 6. Make and Evaluate New Predictions Using Our Testing Data"
      ]
    },
    {
      "cell_type": "code",
      "execution_count": 26,
      "metadata": {
        "colab": {
          "base_uri": "https://localhost:8080/"
        },
        "id": "kWI-TTlzcxY5",
        "outputId": "2f851602-ef44-4241-e135-e4dbcfae3ed3"
      },
      "outputs": [
        {
          "name": "stdout",
          "output_type": "stream",
          "text": [
            "[False, True]\n"
          ]
        }
      ],
      "source": [
        "# df_features_combined_matrix['label_name'] = True if df_features_combined_matrix['label'] == 1 else False\n",
        "df_features_combined['label_name'] = df_features_combined['label'].astype(bool)\n",
        "\n",
        "df_features_combined_matrix = sorted(df_features_combined['label_name'].unique())\n",
        "print(df_features_combined_matrix)\n"
      ]
    },
    {
      "cell_type": "code",
      "execution_count": 27,
      "metadata": {
        "colab": {
          "base_uri": "https://localhost:8080/"
        },
        "id": "5j9xMJEhv220",
        "outputId": "2e1674f1-6b26-447e-b839-9c2a3434469b"
      },
      "outputs": [
        {
          "name": "stdout",
          "output_type": "stream",
          "text": [
            "125/125 [==============================] - 2s 10ms/step\n"
          ]
        }
      ],
      "source": [
        "y_pred = model.predict(X_test)\n",
        "y_pred_classes = np.argmax(y_pred,axis = 1)\n",
        "y_true = y_test\n",
        "\n",
        "y_pred = tf.round(y_pred)\n",
        "y_pred = y_pred.numpy()"
      ]
    },
    {
      "cell_type": "markdown",
      "metadata": {
        "id": "60jkBfvOn7TZ"
      },
      "source": [
        "# 7. Confusion Matrix"
      ]
    },
    {
      "cell_type": "code",
      "execution_count": 28,
      "metadata": {
        "colab": {
          "base_uri": "https://localhost:8080/",
          "height": 961
        },
        "id": "CUXtxSV8oDVJ",
        "outputId": "8be3c420-6fa0-45e0-cbe1-f895e2e8ade2"
      },
      "outputs": [
        {
          "name": "stdout",
          "output_type": "stream",
          "text": [
            "       False  True \n",
            "False   1930     56\n",
            "True      62   1952 \n",
            "\n",
            "\n",
            "\n"
          ]
        },
        {
          "data": {
            "image/png": "[encoded data removed]",
            "text/plain": [
              "<Figure size 1000x1000 with 2 Axes>"
            ]
          },
          "metadata": {},
          "output_type": "display_data"
        }
      ],
      "source": [
        "fig = plt.figure(figsize=(10, 10))\n",
        "plt.title('Confusion Matrix of Model')\n",
        "plt.xlabel('Predicted')\n",
        "plt.ylabel('Actual')\n",
        "\n",
        "\n",
        "model_matrix = confusion_matrix(y_true, y_pred)\n",
        "cm = pd.DataFrame(model_matrix,\n",
        "                  index = [i for i in df_features_combined_matrix ],\n",
        "                  columns = [i for i in df_features_combined_matrix ]\n",
        "                 )\n",
        "\n",
        "# index = index[:2]\n",
        "# columns = columns[:2]\n",
        "\n",
        "# cm = cm.reindex(index=df_features_combined, columns=df_features_combined)\n",
        "\n",
        "\n",
        "\n",
        "\n",
        "ax = sns.heatmap(cm,\n",
        "                 annot = True,\n",
        "                 fmt = 'd',cbar=True)\n",
        "\n",
        "print(cm, '\\n\\n\\n')\n",
        "\n",
        "plt.show()"
      ]
    },
    {
      "cell_type": "markdown",
      "metadata": {
        "id": "NgpgZB7F0iWP"
      },
      "source": [
        "## 7.1 Checking Our Scores"
      ]
    },
    {
      "cell_type": "code",
      "execution_count": 29,
      "metadata": {
        "colab": {
          "base_uri": "https://localhost:8080/"
        },
        "id": "4iY49yzv0aCq",
        "outputId": "13ab39a9-763e-4352-c2e9-6893d1073e09"
      },
      "outputs": [
        {
          "name": "stdout",
          "output_type": "stream",
          "text": [
            "125/125 [==============================] - 2s 10ms/step - loss: 0.1083 - accuracy: 0.9705\n",
            "Model Test Loss: 0.108348\n",
            "Model Test Loss: 10.834840%\n",
            "\n",
            "Model Test Accuracy: 0.970500\n",
            "Model Test Accuracy: 97.049999%\n"
          ]
        }
      ],
      "source": [
        "model_loss, model_accuracy = model.evaluate(X_test, y_test)\n",
        "\n",
        "print('Model Test Loss: %f' % (model_loss))\n",
        "print('Model Test Loss: %f' % (model_loss * 100), '%\\n', sep = '')\n",
        "print('Model Test Accuracy: %f' % (model_accuracy))\n",
        "print('Model Test Accuracy: %f' % (model_accuracy * 100), '%', sep = '')"
      ]
    },
    {
      "cell_type": "code",
      "execution_count": 30,
      "metadata": {
        "colab": {
          "base_uri": "https://localhost:8080/"
        },
        "id": "2hhX2h-I0hz-",
        "outputId": "f855467b-641d-4274-d307-98661d5deaa2"
      },
      "outputs": [
        {
          "name": "stdout",
          "output_type": "stream",
          "text": [
            "Accuracy Score: 97.050000%\n",
            "Precision Score: 97.050000%\n",
            "Recall Score: 97.050000%\n",
            "F1 Score: 97.050000%\n"
          ]
        }
      ],
      "source": [
        "# Calculate our accuracy score.\n",
        "accuracy = accuracy_score(y_true, y_pred)\n",
        "\n",
        "# Calculate our precision score.\n",
        "precision = precision_score(y_true, y_pred, average = 'micro')\n",
        "\n",
        "# Calculate our recall score.\n",
        "recall = recall_score(y_true, y_pred, average = 'micro')\n",
        "\n",
        "# Calculate our f1-score.\n",
        "f1 = f1_score(y_true, y_pred, average = 'micro')\n",
        "\n",
        "# Print each of our scores to inspect performance.\n",
        "print('Accuracy Score: %f' % (accuracy * 100), '%', sep = '')\n",
        "print('Precision Score: %f' % (precision * 100), '%', sep = '')\n",
        "print('Recall Score: %f' % (recall * 100), '%', sep = '')\n",
        "print('F1 Score: %f' % (f1 * 100), '%', sep = '')\n"
      ]
    }
  ],
  "metadata": {
    "accelerator": "GPU",
    "colab": {
      "gpuType": "T4",
      "machine_shape": "hm",
      "provenance": []
    },
    "kernelspec": {
      "display_name": "Python 3",
      "name": "python3"
    },
    "language_info": {
      "codemirror_mode": {
        "name": "ipython",
        "version": 3
      },
      "file_extension": ".py",
      "mimetype": "text/x-python",
      "name": "python",
      "nbconvert_exporter": "python",
      "pygments_lexer": "ipython3",
      "version": "3.11.0"
    }
  },
  "nbformat": 4,
  "nbformat_minor": 0
}
