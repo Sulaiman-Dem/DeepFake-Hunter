{
  "cells": [
    {
      "cell_type": "markdown",
      "metadata": {},
      "source": [
        "# Feature Extraction"
      ]
    },
    {
      "cell_type": "code",
      "execution_count": null,
      "metadata": {
        "colab": {
          "base_uri": "https://localhost:8080/"
        },
        "id": "Z89lWuxw48nO",
        "outputId": "433bec11-196d-4d89-a9f6-a5861c54588c"
      },
      "outputs": [],
      "source": [
        "# For Google Colab imports\n",
        "!pip install librosa"
      ]
    },
    {
      "cell_type": "code",
      "execution_count": 4,
      "metadata": {
        "id": "XZJkDRU400Tw"
      },
      "outputs": [],
      "source": [
        "import pandas as pd # To create/edit/manipulate a data frame\n",
        "import numpy as np # To perform a wide variety of mathematical operations on arrays\n",
        "from glob import glob # a function that's used to search for files that match a specific file pattern or name\n",
        "import csv # To converts into a readable csv file\n",
        "\n",
        "# For feature extraction of audio files\n",
        "import librosa\n",
        "import librosa.display\n",
        "from librosa import feature"
      ]
    },
    {
      "cell_type": "code",
      "execution_count": 5,
      "metadata": {
        "colab": {
          "base_uri": "https://localhost:8080/"
        },
        "id": "mCb9u0Pp52kb",
        "outputId": "504cab0b-2d78-4582-997e-d5853b239b2e"
      },
      "outputs": [
        {
          "name": "stdout",
          "output_type": "stream",
          "text": [
            "Drive already mounted at /content/drive; to attempt to forcibly remount, call drive.mount(\"/content/drive\", force_remount=True).\n"
          ]
        }
      ],
      "source": [
        "# Google Colab for attaching Google Drive data\n",
        "from google.colab import drive\n",
        "drive.mount('/content/drive')"
      ]
    },
    {
      "cell_type": "markdown",
      "metadata": {
        "id": "07VTLnq50sdz"
      },
      "source": [
        "## Audio Data Feature Extraction\n",
        "> 1. **```Zero Crossing Rate:``` The rate of sign-changes of the signal during the duration of a particular frame.**\n",
        "> 2. **```Root Mean Square:```  Metering tool that measures the average loudness of an audio track within a window of roughly 300 milliseconds.**\n",
        "> 3. ```Mel Frequency Cepstral Coefficients:``` Form a cepstral representation where the frequency bands are not linear but distributed according to the mel-scale.\n",
        "> 4. ```Chromagram: Represents the 12 different pitches under an audio file, in one place so that we can understand the classification of the pitches in the audio files.\n",
        "> 5. ```Melspectrogram:``` Scale of pitches that can be felt by the listener to be equal in distance from one another.\n",
        "> 6. ```Spectral Centroid:``` The center of gravity of the spectrum.\n",
        "> 7. ```Spectral Bandwidth:``` The difference between the upper and lower frequencies in a continuous band of frequencies.\n",
        "> 8. ```Spectral Rolloff:``` The frequency below which 90% of the magnitude distribution of the spectrum is concentrated.\n",
        "> 9. ```Spectral Entropy:``` Entropy of the normalized spectral energies for a set of sub-frames.\n",
        "> 10. ```Spectral Flux:``` The squared difference between the normalized magnitudes of the spectra of the two successive frames."
      ]
    },
    {
      "cell_type": "markdown",
      "metadata": {
        "id": "6n8rMz8C-SvB"
      },
      "source": [
        "**Our Selected Feature Extractions**\n",
        "1. melspectrogram\n",
        "2. zero_crossing_rate\n",
        "3. root_mean_square\n",
        "4. spectral_centroid\n",
        "5. spectral_bandwidth\n",
        "6. chroma_stft\n",
        "7. chroma_cqt,\n",
        "8. chroma_cens,\n",
        "9. spectral_rolloff,"
      ]
    },
    {
      "cell_type": "code",
      "execution_count": 9,
      "metadata": {
        "id": "2RqQofNxE6n-"
      },
      "outputs": [],
      "source": [
        "# List of features\n",
        "fn_list_i = [\n",
        " librosa.feature.melspectrogram,\n",
        " librosa.feature.spectral_centroid,\n",
        " librosa.feature.spectral_bandwidth,\n",
        " librosa.feature.chroma_stft,\n",
        " feature.chroma_cqt,\n",
        " feature.chroma_cens,\n",
        " feature.spectral_rolloff,\n",
        "]\n",
        "\n",
        "fn_list_ii = [\n",
        " feature.zero_crossing_rate,\n",
        "]\n",
        "\n",
        "fn_list_iii = [\n",
        " librosa.feature.rms,\n",
        "]\n",
        "\n",
        "# Extracting all the features and putting them into a variable\n",
        "def get_feature_vector(y,sr):\n",
        "   feat_vect_i = [ np.mean(funct(y=y, sr=sr)) for funct in fn_list_i]\n",
        "   feat_vect_ii = [ np.mean(funct(y)) for funct in fn_list_ii]\n",
        "   feat_vect_iii = [ np.mean(funct(y=y)) for funct in fn_list_ii]\n",
        "   feature_vector = feat_vect_i + feat_vect_ii + feat_vect_iii\n",
        "   return feature_vector\n"
      ]
    },
    {
      "cell_type": "markdown",
      "metadata": {},
      "source": [
        "**Result Extraction**"
      ]
    },
    {
      "cell_type": "code",
      "execution_count": 10,
      "metadata": {
        "id": "O44EoE8FD3xB"
      },
      "outputs": [],
      "source": [
        "# Reading all real audio and using the function called \"get_feature_vector\" to create a list of all the features \n",
        "realfolder = '/content/drive/MyDrive/data/Cleanrealtest/'\n",
        "real_audio_files = glob(realfolder + '*.wav')\n",
        "real_audios_feat = []\n",
        "for file in real_audio_files:\n",
        "   y, sr = librosa.load(file,sr=None)\n",
        "   feature_vector = get_feature_vector(y, sr)\n",
        "   real_audios_feat.append(feature_vector)\n",
        "\n",
        "# Reading all fake audio and using the function called \"get_feature_vector\" to create a list of all the features \n",
        "fakefolder = '/content/drive/MyDrive/data/Cleanfaketest/'\n",
        "fake_audio_files = glob(fakefolder + '*.wav')\n",
        "fake_audios_feat = []\n",
        "for file in fake_audio_files:\n",
        "   y , sr = librosa.load(file,sr=None)\n",
        "   feature_vector = get_feature_vector(y, sr)\n",
        "   fake_audios_feat.append(feature_vector)\n"
      ]
    },
    {
      "cell_type": "code",
      "execution_count": 16,
      "metadata": {
        "id": "hkBh2pq0FnbX"
      },
      "outputs": [],
      "source": [
        "# Moving all real audio feature into a manually created csv file for modeling\n",
        "real_output = '/content/drive/MyDrive/data/realfeatures.csv'\n",
        "header =[\n",
        "  'melspectrogram',\n",
        "  'spectral_centroid',\n",
        "  'spectral_bandwidth',\n",
        "  'chroma_stft',\n",
        "  'zero_crossing_rate',\n",
        "  'rms',\n",
        "]\n",
        "with open(real_output,'+w') as f:\n",
        " csv_writer = csv.writer(f, delimiter = ',')\n",
        " csv_writer.writerow(header)\n",
        " csv_writer.writerows(real_audios_feat)\n",
        "\n",
        "# Moving all fake audio feature into a manually created csv file for modeling\n",
        "fake_output = '/content/drive/MyDrive/data/fakefeatures.csv'\n",
        "header =[\n",
        "  'melspectrogram',\n",
        "  'spectral_centroid',\n",
        "  'spectral_bandwidth',\n",
        "  'chroma_stft',\n",
        "  'zero_crossing_rate',\n",
        "  'rms',\n",
        "]\n",
        "with open(fake_output,'+w') as f:\n",
        " csv_writer = csv.writer(f, delimiter = ',')\n",
        " csv_writer.writerow(header)\n",
        " csv_writer.writerows(fake_audios_feat)"
      ]
    }
  ],
  "metadata": {
    "accelerator": "TPU",
    "colab": {
      "machine_shape": "hm",
      "provenance": []
    },
    "kernelspec": {
      "display_name": "Python 3",
      "name": "python3"
    },
    "language_info": {
      "name": "python"
    }
  },
  "nbformat": 4,
  "nbformat_minor": 0
}
