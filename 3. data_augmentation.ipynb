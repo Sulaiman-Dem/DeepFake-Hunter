{
  "cells": [
    {
      "cell_type": "markdown",
      "metadata": {},
      "source": [
        "# Data Augmentation"
      ]
    },
    {
      "cell_type": "code",
      "execution_count": null,
      "metadata": {
        "id": "Z89lWuxw48nO"
      },
      "outputs": [],
      "source": [
        "# For Google Colab imports\n",
        "!pip install pydub"
      ]
    },
    {
      "cell_type": "markdown",
      "metadata": {},
      "source": [
        "# Importing libraries/Dependencies"
      ]
    },
    {
      "cell_type": "code",
      "execution_count": null,
      "metadata": {
        "id": "ReHhcgCT1R-d"
      },
      "outputs": [],
      "source": [
        "from pydub import AudioSegment # To change .wav files\n",
        "import pandas as pd # To create/manipulate a data frame\n",
        "import shutil # High-level file operations\n",
        "import os # File Management"
      ]
    },
    {
      "cell_type": "code",
      "execution_count": null,
      "metadata": {
        "colab": {
          "base_uri": "https://localhost:8080/"
        },
        "id": "mCb9u0Pp52kb",
        "outputId": "1f16cfe1-9510-4ad1-de4b-d9802fd32bb2"
      },
      "outputs": [
        {
          "name": "stdout",
          "output_type": "stream",
          "text": [
            "Mounted at /content/drive\n"
          ]
        }
      ],
      "source": [
        "# Google Colab for attaching Google Drive data\n",
        "from google.colab import drive\n",
        "drive.mount('/content/drive')"
      ]
    },
    {
      "cell_type": "code",
      "execution_count": null,
      "metadata": {
        "id": "XoAO2FN235k8"
      },
      "outputs": [],
      "source": [
        "def convertencoding(input_directory, output_directory):\n",
        "  # Create the output directory if it doesn't exist\n",
        "  if not os.path.exists(output_directory):\n",
        "      os.makedirs(output_directory)\n",
        "\n",
        "  # Loop through all files in the input directory\n",
        "  for filename in os.listdir(input_directory):\n",
        "      if filename.endswith(\".wav\"):  # Check if the file is a WAV file\n",
        "          input_path = os.path.join(input_directory, filename)\n",
        "          output_path = os.path.join(output_directory, filename)\n",
        "\n",
        "          audio = AudioSegment.from_wav(input_path)\n",
        "          audio = audio.set_sample_width(2)  # 2 bytes (16 bits) per sample\n",
        "          audio.export(output_path, format=\"wav\")\n",
        "          print(f\"Converted: {filename}\")"
      ]
    },
    {
      "cell_type": "code",
      "execution_count": null,
      "metadata": {
        "id": "4kacDExQ4S-a"
      },
      "outputs": [],
      "source": [
        "convertencoding('/content/drive/MyDrive/data/Faketest', '/content/drive/MyDrive/data/Cleanfaketest')\n",
        "convertencoding('/content/drive/MyDrive/data/Realtest', '/content/drive/MyDrive/data/Cleanrealtest')"
      ]
    },
    {
      "cell_type": "code",
      "execution_count": null,
      "metadata": {
        "id": "I74TJRA77Dzd"
      },
      "outputs": [],
      "source": [
        "og_audiods = pd.read_csv('/content/drive/MyDrive/OG Data/meta.csv')\n",
        "og_audiods"
      ]
    },
    {
      "cell_type": "markdown",
      "metadata": {},
      "source": [
        "# Checking"
      ]
    },
    {
      "cell_type": "code",
      "execution_count": null,
      "metadata": {
        "id": "NrvcP67_8Rkg"
      },
      "outputs": [],
      "source": [
        "# Loop through audio files in the folder\n",
        "#for filename in os.scandir('/content/drive/MyDrive/Audio'):\n",
        "#    og_audiods['duration'] = librosa.get_duration(path=filename)"
      ]
    },
    {
      "cell_type": "code",
      "execution_count": null,
      "metadata": {
        "id": "tNkmSRmVANuf"
      },
      "outputs": [],
      "source": [
        "# Function to get the duration of a WAV file\n",
        "def get_wav_duration(file_path):\n",
        "    audio = AudioSegment.from_file(file_path)\n",
        "    return audio.duration_seconds\n"
      ]
    },
    {
      "cell_type": "code",
      "execution_count": null,
      "metadata": {
        "id": "-ywKdMkT5r-P"
      },
      "outputs": [],
      "source": [
        "# Folder containing the WAV files\n",
        "folder_path = '/content/drive/MyDrive/Audio'\n",
        "def sortaudiofiles(folder_path, csv_file, new_folder, samplenum): # real = 1, fake = 0\n",
        "  # List to store the durations and filenames\n",
        "  durations = []\n",
        "  #filenames = []\n",
        "\n",
        "  # Load the cleaned/separated data\n",
        "  data = pd.read_csv(csv_file)\n",
        "\n",
        "  # Make a path to audio folder\n",
        "  audio_path = os.path.join(os.getcwd(), folder_path)\n",
        "  new_folder_path = os.path.join(os.getcwd(), new_folder)\n",
        "\n",
        "  # Create new folder if it doesn't exist\n",
        "  if not os.path.exists(new_folder_path):\n",
        "      os.makedirs(new_folder_path)\n",
        "\n",
        "\n",
        "  # New dataframe with durations\n",
        "  new_audiods = pd.DataFrame()\n",
        "\n",
        "  # Iterate through WAV files in the folder\n",
        "  for filename in os.listdir(folder_path):\n",
        "    if filename in data['file'].values:\n",
        "      file = data.loc[data['file'] == filename, 'file'].values[0]\n",
        "      if filename.endswith('.wav'):\n",
        "          file_path = os.path.join(folder_path, filename)\n",
        "          duration = get_wav_duration(file_path)\n",
        "          if duration > 4.0 and duration < 6.0:\n",
        "            durations.append(duration)\n",
        "            # Create new filename and move the file to the new folder\n",
        "            new_filename = f\"{file}\"\n",
        "            shutil.copy(os.path.join(audio_path, filename), os.path.join(new_folder_path, new_filename))\n",
        "          if len(durations) == samplenum:\n",
        "            break\n",
        "\n",
        "  # Add the name and durations as a new column to your DataFrame\n",
        "  #new_audiods['file'] = filenames\n",
        "  #new_audiods['duration'] = durations"
      ]
    },
    {
      "cell_type": "code",
      "execution_count": null,
      "metadata": {
        "id": "SEq2jYzgL21L"
      },
      "outputs": [],
      "source": [
        "reals = sortaudiofiles(folder_path, '/content/drive/MyDrive/OG Data/1.Real_Audio_dataset.csv', '/content/drive/MyDrive/data/Realtest', 500)\n",
        "fakes = sortaudiofiles(folder_path, '/content/drive/MyDrive/OG Data/2.Fake_Audio_dataset.csv', '/content/drive/MyDrive/data/Faketest', 500)"
      ]
    }
  ],
  "metadata": {
    "accelerator": "TPU",
    "colab": {
      "provenance": []
    },
    "kernelspec": {
      "display_name": "Python 3",
      "name": "python3"
    },
    "language_info": {
      "name": "python"
    }
  },
  "nbformat": 4,
  "nbformat_minor": 0
}
