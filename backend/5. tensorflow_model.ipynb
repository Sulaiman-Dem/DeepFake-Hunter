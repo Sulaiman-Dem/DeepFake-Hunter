{
  "cells": [
    {
      "cell_type": "markdown",
      "metadata": {
        "id": "Xt1l21S7OIXT"
      },
      "source": [
        "# Tensorflow Model One"
      ]
    },
    {
      "cell_type": "markdown",
      "metadata": {
        "id": "32uEY9t1j2u2"
      },
      "source": [
        "## Steps:\n",
        "1. Load/Import Dependencies\n",
        "- Load Paths\n",
        "- Create tensflow datasets\n",
        "2. Create training(80%), testing(10%) and validating(10%)\n",
        "3. Build / Define the Model\n",
        "4. Train the Model\n",
        "-  Save the History Callback Object\n",
        "5. Evaluate Model\n",
        "- Model Loss Graph\n",
        "- Model Accuracy Graph\n",
        "6.  Make and Evaluate New Predictions Using Our Testing Data\n",
        "7. Confusion  Matrix\n",
        "- Checking Our Scores\n",
        "- Classification Report"
      ]
    },
    {
      "cell_type": "code",
      "execution_count": 1,
      "metadata": {
        "id": "sH1pcjdrDKTM"
      },
      "outputs": [],
      "source": [
        "# For Google Colab imports\n",
        "!pip install fastparquet\n",
        "!pip install tensorflow"
      ]
    },
    {
      "cell_type": "markdown",
      "metadata": {
        "id": "POJYZznnnOl-"
      },
      "source": [
        "# 1. Load/Import Dependencies"
      ]
    },
    {
      "cell_type": "code",
      "execution_count": 3,
      "metadata": {
        "id": "qaVK4pcyLQaA"
      },
      "outputs": [],
      "source": [
        "import tensorflow as tf  #Our model framework\n",
        "import os # Working with files\n",
        "import pandas as pd #To create/manipulate a dataframe\n",
        "import numpy as np # Data wrangling.\n",
        "\n",
        "# Evaluating Model\n",
        "from sklearn.preprocessing import StandardScaler # To perform standardization by centering and scaling.\n",
        "from sklearn.metrics import accuracy_score,classification_report, confusion_matrix, f1_score, multilabel_confusion_matrix, precision_score, recall_score, ConfusionMatrixDisplay\n",
        "\n",
        "# Building the model\n",
        "from tensorflow.keras.models import Sequential\n",
        "from tensorflow.keras import layers                  # Keras layers API.\n",
        "from tensorflow.keras.layers import Conv1D, Dense, Flatten # Conv2D is a convolution neural network. Flatten is to make everything into one dimensional\n",
        "from tensorflow.keras.callbacks import EarlyStopping     # Stop training when a monitored metric has stopped improving.\n",
        "from sklearn.model_selection import train_test_split # To split data in training/validating/testing.\n",
        "from tensorflow.keras.callbacks import ReduceLROnPlateau # Reduce learning rate when a metric has stopped improving.\n",
        "from tensorflow.keras.models import load_model           # To load the model.\n",
        "import pickle # Python object serialization.\n",
        "\n",
        "#  Visualise Model Performance\n",
        "import seaborn as sns\n",
        "sns.set()\n",
        "# import plotly.express as px\n",
        "from matplotlib import pyplot as plt"
      ]
    },
    {
      "cell_type": "code",
      "execution_count": null,
      "metadata": {},
      "outputs": [],
      "source": [
        "from google.colab import drive\n",
        "drive.mount('/content/drive')"
      ]
    },
    {
      "cell_type": "markdown",
      "metadata": {
        "id": "9rKKhx3Rpv_N"
      },
      "source": [
        "## 1.1 Loading data path"
      ]
    },
    {
      "cell_type": "code",
      "execution_count": 3,
      "metadata": {
        "id": "afBaWPD1tQQR"
      },
      "outputs": [],
      "source": [
        "fake_features = os.path.join('/content/drive/MyDrive/Data/Features/fakefeatures.csv')\n",
        "real_features = os.path.join('/content/drive/MyDrive/Data/Features/realfeatures.csv')"
      ]
    },
    {
      "cell_type": "markdown",
      "metadata": {
        "id": "-LmQQhN8xnDJ"
      },
      "source": [
        "## 1.2 Making csv files dataframes"
      ]
    },
    {
      "cell_type": "code",
      "execution_count": 4,
      "metadata": {
        "id": "GOtc8euoxmn2"
      },
      "outputs": [],
      "source": [
        "df_fake_features = pd.read_csv(fake_features)\n",
        "df_real_features = pd.read_csv(real_features)"
      ]
    },
    {
      "cell_type": "markdown",
      "metadata": {
        "id": "NpnVAlQ3yr7U"
      },
      "source": [
        "## 1.3 Checking Dataframe"
      ]
    },
    {
      "cell_type": "code",
      "execution_count": 5,
      "metadata": {
        "id": "BEWhJavJyroz"
      },
      "outputs": [],
      "source": [
        "def inspect_dataframe(input_df):\n",
        "\n",
        "    print('The Null Values:\\n',input_df.isnull().sum())\n",
        "    print('\\n')\n",
        "    print('The Duplicate Values:\\n',input_df.duplicated().sum())\n",
        "    print('\\n')\n",
        "    print('The Description:\\n',input_df.describe())\n",
        "    print('\\n')\n",
        "    print('Columns:')\n",
        "    for col in input_df.columns:\n",
        "        print(col)\n",
        "\n",
        "    pass"
      ]
    },
    {
      "cell_type": "code",
      "execution_count": 6,
      "metadata": {
        "colab": {
          "base_uri": "https://localhost:8080/"
        },
        "id": "u8oAtacnywb-",
        "outputId": "adff0b83-d8cc-4d60-d669-74ca69a07058"
      },
      "outputs": [
        {
          "name": "stdout",
          "output_type": "stream",
          "text": [
            "The Null Values:\n",
            " melspectrogram        0\n",
            "spectral_centroid     0\n",
            "spectral_bandwidth    0\n",
            "chroma_stft           0\n",
            "zero_crossing_rate    0\n",
            "rms                   0\n",
            "chroma_cqt            0\n",
            "chroma_cens           0\n",
            "spectral_rolloff      0\n",
            "dtype: int64\n",
            "\n",
            "\n",
            "The Duplicate Values:\n",
            " 0\n",
            "\n",
            "\n",
            "The Description:\n",
            "        melspectrogram  spectral_centroid  spectral_bandwidth  chroma_stft  \\\n",
            "count      500.000000         500.000000          500.000000   500.000000   \n",
            "mean         0.538046        1488.692597         1337.144341     0.353455   \n",
            "std          0.575525         342.685071          242.453152     0.045300   \n",
            "min          0.006590         645.224357          737.956602     0.227775   \n",
            "25%          0.196403        1256.266363         1170.852540     0.324837   \n",
            "50%          0.360922        1468.679929         1327.755327     0.358588   \n",
            "75%          0.630643        1716.815717         1492.099109     0.385389   \n",
            "max          3.766791        2639.623920         2116.693907     0.497866   \n",
            "\n",
            "       zero_crossing_rate         rms   chroma_cqt  chroma_cens  \\\n",
            "count          500.000000  500.000000   500.000000   500.000000   \n",
            "mean             0.439305    0.257431  2726.355510     0.127148   \n",
            "std              0.056796    0.012989   594.478280     0.040247   \n",
            "min              0.276835    0.203588  1190.931166     0.039637   \n",
            "25%              0.399612    0.248812  2285.676094     0.099137   \n",
            "50%              0.438731    0.259355  2702.590219     0.123324   \n",
            "75%              0.479256    0.266767  3128.625829     0.150421   \n",
            "max              0.602208    0.282468  4601.266892     0.280421   \n",
            "\n",
            "       spectral_rolloff  \n",
            "count        500.000000  \n",
            "mean           0.127148  \n",
            "std            0.040247  \n",
            "min            0.039637  \n",
            "25%            0.099137  \n",
            "50%            0.123324  \n",
            "75%            0.150421  \n",
            "max            0.280421  \n",
            "\n",
            "\n",
            "Columns:\n",
            "melspectrogram\n",
            "spectral_centroid\n",
            "spectral_bandwidth\n",
            "chroma_stft\n",
            "zero_crossing_rate\n",
            "rms\n",
            "chroma_cqt\n",
            "chroma_cens\n",
            "spectral_rolloff\n"
          ]
        }
      ],
      "source": [
        "inspect_dataframe(df_fake_features)"
      ]
    },
    {
      "cell_type": "code",
      "execution_count": 7,
      "metadata": {
        "colab": {
          "base_uri": "https://localhost:8080/",
          "height": 444
        },
        "id": "1YU3DHT71EBC",
        "outputId": "6455c353-c869-4243-8941-f0c05c4b57d3"
      },
      "outputs": [
        {
          "data": {
            "text/html": [
              "\n",
              "  <div id=\"df-0f7dc9db-9fca-48b9-8318-dc3bb94da2e9\" class=\"colab-df-container\">\n",
              "    <div>\n",
              "<style scoped>\n",
              "    .dataframe tbody tr th:only-of-type {\n",
              "        vertical-align: middle;\n",
              "    }\n",
              "\n",
              "    .dataframe tbody tr th {\n",
              "        vertical-align: top;\n",
              "    }\n",
              "\n",
              "    .dataframe thead th {\n",
              "        text-align: right;\n",
              "    }\n",
              "</style>\n",
              "<table border=\"1\" class=\"dataframe\">\n",
              "  <thead>\n",
              "    <tr style=\"text-align: right;\">\n",
              "      <th></th>\n",
              "      <th>melspectrogram</th>\n",
              "      <th>spectral_centroid</th>\n",
              "      <th>spectral_bandwidth</th>\n",
              "      <th>chroma_stft</th>\n",
              "      <th>zero_crossing_rate</th>\n",
              "      <th>rms</th>\n",
              "      <th>chroma_cqt</th>\n",
              "      <th>chroma_cens</th>\n",
              "      <th>spectral_rolloff</th>\n",
              "      <th>label</th>\n",
              "      <th>label_name</th>\n",
              "    </tr>\n",
              "  </thead>\n",
              "  <tbody>\n",
              "    <tr>\n",
              "      <th>0</th>\n",
              "      <td>0.501412</td>\n",
              "      <td>1573.542866</td>\n",
              "      <td>1436.049412</td>\n",
              "      <td>0.373341</td>\n",
              "      <td>0.433252</td>\n",
              "      <td>0.249936</td>\n",
              "      <td>2950.458829</td>\n",
              "      <td>0.093928</td>\n",
              "      <td>0.093928</td>\n",
              "      <td>0</td>\n",
              "      <td>fake</td>\n",
              "    </tr>\n",
              "    <tr>\n",
              "      <th>1</th>\n",
              "      <td>0.467492</td>\n",
              "      <td>1475.354777</td>\n",
              "      <td>1331.141484</td>\n",
              "      <td>0.367566</td>\n",
              "      <td>0.448620</td>\n",
              "      <td>0.260989</td>\n",
              "      <td>2638.118004</td>\n",
              "      <td>0.130189</td>\n",
              "      <td>0.130189</td>\n",
              "      <td>0</td>\n",
              "      <td>fake</td>\n",
              "    </tr>\n",
              "    <tr>\n",
              "      <th>2</th>\n",
              "      <td>0.360517</td>\n",
              "      <td>1803.124445</td>\n",
              "      <td>1334.663490</td>\n",
              "      <td>0.363125</td>\n",
              "      <td>0.474792</td>\n",
              "      <td>0.268324</td>\n",
              "      <td>3043.204698</td>\n",
              "      <td>0.178695</td>\n",
              "      <td>0.178695</td>\n",
              "      <td>0</td>\n",
              "      <td>fake</td>\n",
              "    </tr>\n",
              "    <tr>\n",
              "      <th>3</th>\n",
              "      <td>0.512352</td>\n",
              "      <td>1507.417621</td>\n",
              "      <td>1313.102750</td>\n",
              "      <td>0.334021</td>\n",
              "      <td>0.418174</td>\n",
              "      <td>0.263614</td>\n",
              "      <td>2730.338542</td>\n",
              "      <td>0.135864</td>\n",
              "      <td>0.135864</td>\n",
              "      <td>0</td>\n",
              "      <td>fake</td>\n",
              "    </tr>\n",
              "    <tr>\n",
              "      <th>4</th>\n",
              "      <td>0.546540</td>\n",
              "      <td>1595.520466</td>\n",
              "      <td>1288.440156</td>\n",
              "      <td>0.341906</td>\n",
              "      <td>0.443642</td>\n",
              "      <td>0.257819</td>\n",
              "      <td>2823.807566</td>\n",
              "      <td>0.182823</td>\n",
              "      <td>0.182823</td>\n",
              "      <td>0</td>\n",
              "      <td>fake</td>\n",
              "    </tr>\n",
              "    <tr>\n",
              "      <th>...</th>\n",
              "      <td>...</td>\n",
              "      <td>...</td>\n",
              "      <td>...</td>\n",
              "      <td>...</td>\n",
              "      <td>...</td>\n",
              "      <td>...</td>\n",
              "      <td>...</td>\n",
              "      <td>...</td>\n",
              "      <td>...</td>\n",
              "      <td>...</td>\n",
              "      <td>...</td>\n",
              "    </tr>\n",
              "    <tr>\n",
              "      <th>995</th>\n",
              "      <td>2.071994</td>\n",
              "      <td>2030.263536</td>\n",
              "      <td>1765.157588</td>\n",
              "      <td>0.277827</td>\n",
              "      <td>0.401236</td>\n",
              "      <td>0.254103</td>\n",
              "      <td>4023.215869</td>\n",
              "      <td>0.130873</td>\n",
              "      <td>0.130873</td>\n",
              "      <td>1</td>\n",
              "      <td>real</td>\n",
              "    </tr>\n",
              "    <tr>\n",
              "      <th>996</th>\n",
              "      <td>2.750954</td>\n",
              "      <td>873.896082</td>\n",
              "      <td>967.743441</td>\n",
              "      <td>0.327787</td>\n",
              "      <td>0.416305</td>\n",
              "      <td>0.244682</td>\n",
              "      <td>1689.837598</td>\n",
              "      <td>0.061589</td>\n",
              "      <td>0.061589</td>\n",
              "      <td>1</td>\n",
              "      <td>real</td>\n",
              "    </tr>\n",
              "    <tr>\n",
              "      <th>997</th>\n",
              "      <td>0.667455</td>\n",
              "      <td>1454.454083</td>\n",
              "      <td>1386.370428</td>\n",
              "      <td>0.313234</td>\n",
              "      <td>0.407361</td>\n",
              "      <td>0.259663</td>\n",
              "      <td>2771.294643</td>\n",
              "      <td>0.105313</td>\n",
              "      <td>0.105313</td>\n",
              "      <td>1</td>\n",
              "      <td>real</td>\n",
              "    </tr>\n",
              "    <tr>\n",
              "      <th>998</th>\n",
              "      <td>4.263884</td>\n",
              "      <td>1212.201879</td>\n",
              "      <td>1384.560414</td>\n",
              "      <td>0.319400</td>\n",
              "      <td>0.434800</td>\n",
              "      <td>0.271321</td>\n",
              "      <td>2354.705991</td>\n",
              "      <td>0.081373</td>\n",
              "      <td>0.081373</td>\n",
              "      <td>1</td>\n",
              "      <td>real</td>\n",
              "    </tr>\n",
              "    <tr>\n",
              "      <th>999</th>\n",
              "      <td>0.223684</td>\n",
              "      <td>1334.202904</td>\n",
              "      <td>1365.485529</td>\n",
              "      <td>0.360256</td>\n",
              "      <td>0.475673</td>\n",
              "      <td>0.269268</td>\n",
              "      <td>2425.804364</td>\n",
              "      <td>0.100014</td>\n",
              "      <td>0.100014</td>\n",
              "      <td>1</td>\n",
              "      <td>real</td>\n",
              "    </tr>\n",
              "  </tbody>\n",
              "</table>\n",
              "<p>1000 rows × 11 columns</p>\n",
              "</div>\n",
              "    <div class=\"colab-df-buttons\">\n",
              "\n",
              "  <div class=\"colab-df-container\">\n",
              "    <button class=\"colab-df-convert\" onclick=\"convertToInteractive('df-0f7dc9db-9fca-48b9-8318-dc3bb94da2e9')\"\n",
              "            title=\"Convert this dataframe to an interactive table.\"\n",
              "            style=\"display:none;\">\n",
              "\n",
              "  <svg xmlns=\"http://www.w3.org/2000/svg\" height=\"24px\" viewBox=\"0 -960 960 960\">\n",
              "    <path d=\"M120-120v-720h720v720H120Zm60-500h600v-160H180v160Zm220 220h160v-160H400v160Zm0 220h160v-160H400v160ZM180-400h160v-160H180v160Zm440 0h160v-160H620v160ZM180-180h160v-160H180v160Zm440 0h160v-160H620v160Z\"/>\n",
              "  </svg>\n",
              "    </button>\n",
              "\n",
              "  <style>\n",
              "    .colab-df-container {\n",
              "      display:flex;\n",
              "      gap: 12px;\n",
              "    }\n",
              "\n",
              "    .colab-df-convert {\n",
              "      background-color: #E8F0FE;\n",
              "      border: none;\n",
              "      border-radius: 50%;\n",
              "      cursor: pointer;\n",
              "      display: none;\n",
              "      fill: #1967D2;\n",
              "      height: 32px;\n",
              "      padding: 0 0 0 0;\n",
              "      width: 32px;\n",
              "    }\n",
              "\n",
              "    .colab-df-convert:hover {\n",
              "      background-color: #E2EBFA;\n",
              "      box-shadow: 0px 1px 2px rgba(60, 64, 67, 0.3), 0px 1px 3px 1px rgba(60, 64, 67, 0.15);\n",
              "      fill: #174EA6;\n",
              "    }\n",
              "\n",
              "    .colab-df-buttons div {\n",
              "      margin-bottom: 4px;\n",
              "    }\n",
              "\n",
              "    [theme=dark] .colab-df-convert {\n",
              "      background-color: #3B4455;\n",
              "      fill: #D2E3FC;\n",
              "    }\n",
              "\n",
              "    [theme=dark] .colab-df-convert:hover {\n",
              "      background-color: #434B5C;\n",
              "      box-shadow: 0px 1px 3px 1px rgba(0, 0, 0, 0.15);\n",
              "      filter: drop-shadow(0px 1px 2px rgba(0, 0, 0, 0.3));\n",
              "      fill: #FFFFFF;\n",
              "    }\n",
              "  </style>\n",
              "\n",
              "    <script>\n",
              "      const buttonEl =\n",
              "        document.querySelector('#df-0f7dc9db-9fca-48b9-8318-dc3bb94da2e9 button.colab-df-convert');\n",
              "      buttonEl.style.display =\n",
              "        google.colab.kernel.accessAllowed ? 'block' : 'none';\n",
              "\n",
              "      async function convertToInteractive(key) {\n",
              "        const element = document.querySelector('#df-0f7dc9db-9fca-48b9-8318-dc3bb94da2e9');\n",
              "        const dataTable =\n",
              "          await google.colab.kernel.invokeFunction('convertToInteractive',\n",
              "                                                    [key], {});\n",
              "        if (!dataTable) return;\n",
              "\n",
              "        const docLinkHtml = 'Like what you see? Visit the ' +\n",
              "          '<a target=\"_blank\" href=https://colab.research.google.com/notebooks/data_table.ipynb>data table notebook</a>'\n",
              "          + ' to learn more about interactive tables.';\n",
              "        element.innerHTML = '';\n",
              "        dataTable['output_type'] = 'display_data';\n",
              "        await google.colab.output.renderOutput(dataTable, element);\n",
              "        const docLink = document.createElement('div');\n",
              "        docLink.innerHTML = docLinkHtml;\n",
              "        element.appendChild(docLink);\n",
              "      }\n",
              "    </script>\n",
              "  </div>\n",
              "\n",
              "\n",
              "<div id=\"df-aa5f9b28-d504-47c2-a5ab-1f2f91ae5bd5\">\n",
              "  <button class=\"colab-df-quickchart\" onclick=\"quickchart('df-aa5f9b28-d504-47c2-a5ab-1f2f91ae5bd5')\"\n",
              "            title=\"Suggest charts.\"\n",
              "            style=\"display:none;\">\n",
              "\n",
              "<svg xmlns=\"http://www.w3.org/2000/svg\" height=\"24px\"viewBox=\"0 0 24 24\"\n",
              "     width=\"24px\">\n",
              "    <g>\n",
              "        <path d=\"M19 3H5c-1.1 0-2 .9-2 2v14c0 1.1.9 2 2 2h14c1.1 0 2-.9 2-2V5c0-1.1-.9-2-2-2zM9 17H7v-7h2v7zm4 0h-2V7h2v10zm4 0h-2v-4h2v4z\"/>\n",
              "    </g>\n",
              "</svg>\n",
              "  </button>\n",
              "\n",
              "<style>\n",
              "  .colab-df-quickchart {\n",
              "      --bg-color: #E8F0FE;\n",
              "      --fill-color: #1967D2;\n",
              "      --hover-bg-color: #E2EBFA;\n",
              "      --hover-fill-color: #174EA6;\n",
              "      --disabled-fill-color: #AAA;\n",
              "      --disabled-bg-color: #DDD;\n",
              "  }\n",
              "\n",
              "  [theme=dark] .colab-df-quickchart {\n",
              "      --bg-color: #3B4455;\n",
              "      --fill-color: #D2E3FC;\n",
              "      --hover-bg-color: #434B5C;\n",
              "      --hover-fill-color: #FFFFFF;\n",
              "      --disabled-bg-color: #3B4455;\n",
              "      --disabled-fill-color: #666;\n",
              "  }\n",
              "\n",
              "  .colab-df-quickchart {\n",
              "    background-color: var(--bg-color);\n",
              "    border: none;\n",
              "    border-radius: 50%;\n",
              "    cursor: pointer;\n",
              "    display: none;\n",
              "    fill: var(--fill-color);\n",
              "    height: 32px;\n",
              "    padding: 0;\n",
              "    width: 32px;\n",
              "  }\n",
              "\n",
              "  .colab-df-quickchart:hover {\n",
              "    background-color: var(--hover-bg-color);\n",
              "    box-shadow: 0 1px 2px rgba(60, 64, 67, 0.3), 0 1px 3px 1px rgba(60, 64, 67, 0.15);\n",
              "    fill: var(--button-hover-fill-color);\n",
              "  }\n",
              "\n",
              "  .colab-df-quickchart-complete:disabled,\n",
              "  .colab-df-quickchart-complete:disabled:hover {\n",
              "    background-color: var(--disabled-bg-color);\n",
              "    fill: var(--disabled-fill-color);\n",
              "    box-shadow: none;\n",
              "  }\n",
              "\n",
              "  .colab-df-spinner {\n",
              "    border: 2px solid var(--fill-color);\n",
              "    border-color: transparent;\n",
              "    border-bottom-color: var(--fill-color);\n",
              "    animation:\n",
              "      spin 1s steps(1) infinite;\n",
              "  }\n",
              "\n",
              "  @keyframes spin {\n",
              "    0% {\n",
              "      border-color: transparent;\n",
              "      border-bottom-color: var(--fill-color);\n",
              "      border-left-color: var(--fill-color);\n",
              "    }\n",
              "    20% {\n",
              "      border-color: transparent;\n",
              "      border-left-color: var(--fill-color);\n",
              "      border-top-color: var(--fill-color);\n",
              "    }\n",
              "    30% {\n",
              "      border-color: transparent;\n",
              "      border-left-color: var(--fill-color);\n",
              "      border-top-color: var(--fill-color);\n",
              "      border-right-color: var(--fill-color);\n",
              "    }\n",
              "    40% {\n",
              "      border-color: transparent;\n",
              "      border-right-color: var(--fill-color);\n",
              "      border-top-color: var(--fill-color);\n",
              "    }\n",
              "    60% {\n",
              "      border-color: transparent;\n",
              "      border-right-color: var(--fill-color);\n",
              "    }\n",
              "    80% {\n",
              "      border-color: transparent;\n",
              "      border-right-color: var(--fill-color);\n",
              "      border-bottom-color: var(--fill-color);\n",
              "    }\n",
              "    90% {\n",
              "      border-color: transparent;\n",
              "      border-bottom-color: var(--fill-color);\n",
              "    }\n",
              "  }\n",
              "</style>\n",
              "\n",
              "  <script>\n",
              "    async function quickchart(key) {\n",
              "      const quickchartButtonEl =\n",
              "        document.querySelector('#' + key + ' button');\n",
              "      quickchartButtonEl.disabled = true;  // To prevent multiple clicks.\n",
              "      quickchartButtonEl.classList.add('colab-df-spinner');\n",
              "      try {\n",
              "        const charts = await google.colab.kernel.invokeFunction(\n",
              "            'suggestCharts', [key], {});\n",
              "      } catch (error) {\n",
              "        console.error('Error during call to suggestCharts:', error);\n",
              "      }\n",
              "      quickchartButtonEl.classList.remove('colab-df-spinner');\n",
              "      quickchartButtonEl.classList.add('colab-df-quickchart-complete');\n",
              "    }\n",
              "    (() => {\n",
              "      let quickchartButtonEl =\n",
              "        document.querySelector('#df-aa5f9b28-d504-47c2-a5ab-1f2f91ae5bd5 button');\n",
              "      quickchartButtonEl.style.display =\n",
              "        google.colab.kernel.accessAllowed ? 'block' : 'none';\n",
              "    })();\n",
              "  </script>\n",
              "</div>\n",
              "\n",
              "  <div id=\"id_466e9a4c-ae20-4fe7-b391-b7da374e2c41\">\n",
              "    <style>\n",
              "      .colab-df-generate {\n",
              "        background-color: #E8F0FE;\n",
              "        border: none;\n",
              "        border-radius: 50%;\n",
              "        cursor: pointer;\n",
              "        display: none;\n",
              "        fill: #1967D2;\n",
              "        height: 32px;\n",
              "        padding: 0 0 0 0;\n",
              "        width: 32px;\n",
              "      }\n",
              "\n",
              "      .colab-df-generate:hover {\n",
              "        background-color: #E2EBFA;\n",
              "        box-shadow: 0px 1px 2px rgba(60, 64, 67, 0.3), 0px 1px 3px 1px rgba(60, 64, 67, 0.15);\n",
              "        fill: #174EA6;\n",
              "      }\n",
              "\n",
              "      [theme=dark] .colab-df-generate {\n",
              "        background-color: #3B4455;\n",
              "        fill: #D2E3FC;\n",
              "      }\n",
              "\n",
              "      [theme=dark] .colab-df-generate:hover {\n",
              "        background-color: #434B5C;\n",
              "        box-shadow: 0px 1px 3px 1px rgba(0, 0, 0, 0.15);\n",
              "        filter: drop-shadow(0px 1px 2px rgba(0, 0, 0, 0.3));\n",
              "        fill: #FFFFFF;\n",
              "      }\n",
              "    </style>\n",
              "    <button class=\"colab-df-generate\" onclick=\"generateWithVariable('df_features_combined')\"\n",
              "            title=\"Generate code using this dataframe.\"\n",
              "            style=\"display:none;\">\n",
              "\n",
              "  <svg xmlns=\"http://www.w3.org/2000/svg\" height=\"24px\"viewBox=\"0 0 24 24\"\n",
              "       width=\"24px\">\n",
              "    <path d=\"M7,19H8.4L18.45,9,17,7.55,7,17.6ZM5,21V16.75L18.45,3.32a2,2,0,0,1,2.83,0l1.4,1.43a1.91,1.91,0,0,1,.58,1.4,1.91,1.91,0,0,1-.58,1.4L9.25,21ZM18.45,9,17,7.55Zm-12,3A5.31,5.31,0,0,0,4.9,8.1,5.31,5.31,0,0,0,1,6.5,5.31,5.31,0,0,0,4.9,4.9,5.31,5.31,0,0,0,6.5,1,5.31,5.31,0,0,0,8.1,4.9,5.31,5.31,0,0,0,12,6.5,5.46,5.46,0,0,0,6.5,12Z\"/>\n",
              "  </svg>\n",
              "    </button>\n",
              "    <script>\n",
              "      (() => {\n",
              "      const buttonEl =\n",
              "        document.querySelector('#id_466e9a4c-ae20-4fe7-b391-b7da374e2c41 button.colab-df-generate');\n",
              "      buttonEl.style.display =\n",
              "        google.colab.kernel.accessAllowed ? 'block' : 'none';\n",
              "\n",
              "      buttonEl.onclick = () => {\n",
              "        google.colab.notebook.generateWithVariable('df_features_combined');\n",
              "      }\n",
              "      })();\n",
              "    </script>\n",
              "  </div>\n",
              "\n",
              "    </div>\n",
              "  </div>\n"
            ],
            "text/plain": [
              "     melspectrogram  spectral_centroid  spectral_bandwidth  chroma_stft  \\\n",
              "0          0.501412        1573.542866         1436.049412     0.373341   \n",
              "1          0.467492        1475.354777         1331.141484     0.367566   \n",
              "2          0.360517        1803.124445         1334.663490     0.363125   \n",
              "3          0.512352        1507.417621         1313.102750     0.334021   \n",
              "4          0.546540        1595.520466         1288.440156     0.341906   \n",
              "..              ...                ...                 ...          ...   \n",
              "995        2.071994        2030.263536         1765.157588     0.277827   \n",
              "996        2.750954         873.896082          967.743441     0.327787   \n",
              "997        0.667455        1454.454083         1386.370428     0.313234   \n",
              "998        4.263884        1212.201879         1384.560414     0.319400   \n",
              "999        0.223684        1334.202904         1365.485529     0.360256   \n",
              "\n",
              "     zero_crossing_rate       rms   chroma_cqt  chroma_cens  spectral_rolloff  \\\n",
              "0              0.433252  0.249936  2950.458829     0.093928          0.093928   \n",
              "1              0.448620  0.260989  2638.118004     0.130189          0.130189   \n",
              "2              0.474792  0.268324  3043.204698     0.178695          0.178695   \n",
              "3              0.418174  0.263614  2730.338542     0.135864          0.135864   \n",
              "4              0.443642  0.257819  2823.807566     0.182823          0.182823   \n",
              "..                  ...       ...          ...          ...               ...   \n",
              "995            0.401236  0.254103  4023.215869     0.130873          0.130873   \n",
              "996            0.416305  0.244682  1689.837598     0.061589          0.061589   \n",
              "997            0.407361  0.259663  2771.294643     0.105313          0.105313   \n",
              "998            0.434800  0.271321  2354.705991     0.081373          0.081373   \n",
              "999            0.475673  0.269268  2425.804364     0.100014          0.100014   \n",
              "\n",
              "     label label_name  \n",
              "0        0       fake  \n",
              "1        0       fake  \n",
              "2        0       fake  \n",
              "3        0       fake  \n",
              "4        0       fake  \n",
              "..     ...        ...  \n",
              "995      1       real  \n",
              "996      1       real  \n",
              "997      1       real  \n",
              "998      1       real  \n",
              "999      1       real  \n",
              "\n",
              "[1000 rows x 11 columns]"
            ]
          },
          "execution_count": 7,
          "metadata": {},
          "output_type": "execute_result"
        }
      ],
      "source": [
        "df_fake_features['label'] = 0\n",
        "df_fake_features['label_name'] = 'fake'\n",
        "df_real_features['label'] = 1\n",
        "df_real_features['label_name'] = 'real'\n",
        "df_features_combined = pd.concat([df_fake_features, df_real_features], ignore_index=True)\n",
        "df_features_combined\n"
      ]
    },
    {
      "cell_type": "code",
      "execution_count": 8,
      "metadata": {
        "colab": {
          "base_uri": "https://localhost:8080/"
        },
        "id": "SEDNPsg71u0g",
        "outputId": "a1ce7c8f-d67a-4887-a1e5-7e7847124291"
      },
      "outputs": [
        {
          "name": "stdout",
          "output_type": "stream",
          "text": [
            "['fake', 'real']\n"
          ]
        }
      ],
      "source": [
        "fake_real_audio = sorted(df_features_combined['label_name'].unique())\n",
        "print(fake_real_audio)"
      ]
    },
    {
      "cell_type": "markdown",
      "metadata": {
        "id": "mKey9WJYnaQa"
      },
      "source": [
        "# 2. Create training, testing and validating"
      ]
    },
    {
      "cell_type": "markdown",
      "metadata": {
        "id": "EoMABNEqyJSS"
      },
      "source": [
        "## 2.1 Split Our Data Into Three Sets:\n",
        "> 1. Training   (80%)\n",
        "> 2. Validating (10%)\n",
        "> 3. Testing    (10%)"
      ]
    },
    {
      "cell_type": "code",
      "execution_count": 1,
      "metadata": {
        "colab": {
          "base_uri": "https://localhost:8080/"
        },
        "id": "lhAfoFqt04zi",
        "outputId": "b1108745-6515-455c-edb8-dedf0d88dcd8"
      },
      "outputs": [
        {
          "name": "stdout",
          "output_type": "stream",
          "text": [
            "batchsize:  40\n",
            "prefetech:  20\n"
          ]
        }
      ],
      "source": [
        "real = 1000\n",
        "fake = 1000\n",
        "batchsize = round((real + fake) * 0.02)\n",
        "print(\"batchsize: \",batchsize)\n",
        "prefetech = round(batchsize / 2)\n",
        "print(\"prefetech: \",prefetech)"
      ]
    },
    {
      "cell_type": "code",
      "execution_count": 10,
      "metadata": {
        "id": "l7sy3IeW_EPY"
      },
      "outputs": [],
      "source": [
        "X = df_features_combined.drop(labels=['label', 'label_name'], axis=1)\n",
        "y = df_features_combined['label']\n"
      ]
    },
    {
      "cell_type": "code",
      "execution_count": 11,
      "metadata": {
        "colab": {
          "base_uri": "https://localhost:8080/"
        },
        "id": "sxnp3qZwDxQ6",
        "outputId": "5996d0db-7c3f-480f-a61c-bee18ec75c19"
      },
      "outputs": [
        {
          "name": "stdout",
          "output_type": "stream",
          "text": [
            "X_remain.shape =  (200, 9)\n",
            "y_remain.shape =  (200,)\n",
            "X_train.shape  =  (800, 9)\n",
            "y_train.shape  =  (800,)\n",
            "X_valid.shape  =  (100, 9)\n",
            "y_valid.shape  =  (100,)\n",
            "X_test.shape   =  (100, 9)\n",
            "y_test.shape   =  (100,)\n"
          ]
        }
      ],
      "source": [
        "X_train, X_remain, y_train, y_remain = train_test_split(\n",
        "    X, y, test_size = 0.2, random_state = 42)\n",
        "\n",
        "print('X_remain.shape = ', X_remain.shape)\n",
        "print('y_remain.shape = ', y_remain.shape)\n",
        "\n",
        "X_valid, X_test, y_valid, y_test = train_test_split(\n",
        "    X_remain, y_remain, test_size = 0.5, random_state = 42)\n",
        "\n",
        "print('X_train.shape  = ', X_train.shape)\n",
        "print('y_train.shape  = ', y_train.shape)\n",
        "print('X_valid.shape  = ', X_valid.shape)\n",
        "print('y_valid.shape  = ', y_valid.shape)\n",
        "print('X_test.shape   = ', X_test.shape)\n",
        "print('y_test.shape   = ', y_test.shape)"
      ]
    },
    {
      "cell_type": "code",
      "execution_count": 12,
      "metadata": {
        "colab": {
          "base_uri": "https://localhost:8080/"
        },
        "id": "0kXedGzk-2tP",
        "outputId": "3e5e61b6-84f1-42b7-e5b0-c80baa824680"
      },
      "outputs": [
        {
          "name": "stdout",
          "output_type": "stream",
          "text": [
            "X_train.shape  =  (800, 9)\n",
            "X_remain.shape =  (200, 9)\n",
            "X_valid.shape  =  (100, 9)\n",
            "X_test.shape   =  (100, 9)\n"
          ]
        }
      ],
      "source": [
        "# Standardize / Scale data.\n",
        "# Standardize features by removing the mean and scaling to unit variance.\n",
        "# z = (x - u) / s\n",
        "\n",
        "standard_scaler = StandardScaler()\n",
        "X_train = standard_scaler.fit_transform(X_train.values)\n",
        "X_valid = standard_scaler.transform(X_valid.values)\n",
        "X_test = standard_scaler.transform(X_test.values)\n",
        "\n",
        "print('X_train.shape  = ', X_train.shape)\n",
        "print('X_remain.shape = ', X_remain.shape)\n",
        "print('X_valid.shape  = ', X_valid.shape)\n",
        "print('X_test.shape   = ', X_test.shape)\n"
      ]
    },
    {
      "cell_type": "code",
      "execution_count": 13,
      "metadata": {
        "colab": {
          "base_uri": "https://localhost:8080/"
        },
        "id": "-h4la9StE5OQ",
        "outputId": "45b2cec7-33bd-4269-c111-ed8accb8c56f"
      },
      "outputs": [
        {
          "name": "stdout",
          "output_type": "stream",
          "text": [
            "X_train.shape  =  (800, 9, 1)\n",
            "X_remain.shape =  (200, 9)\n",
            "X_valid.shape  =  (100, 9, 1)\n",
            "X_test.shape   =  (100, 9, 1)\n"
          ]
        }
      ],
      "source": [
        "# Modify data to fit into a 1D-CNN.\n",
        "\n",
        "X_train = np.expand_dims(X_train, axis = 2)\n",
        "X_valid = np.expand_dims(X_valid, axis = 2)\n",
        "X_test = np.expand_dims(X_test, axis = 2)\n",
        "\n",
        "print('X_train.shape  = ', X_train.shape)\n",
        "print('X_remain.shape = ', X_remain.shape)\n",
        "print('X_valid.shape  = ', X_valid.shape)\n",
        "print('X_test.shape   = ', X_test.shape)"
      ]
    },
    {
      "cell_type": "markdown",
      "metadata": {
        "id": "E7ueLjc0neo6"
      },
      "source": [
        "# 3. Build / Define the Model"
      ]
    },
    {
      "cell_type": "code",
      "execution_count": 14,
      "metadata": {
        "id": "gYxPEfSb781L"
      },
      "outputs": [],
      "source": [
        "early_stopping = EarlyStopping(monitor = 'val_accuracy',\n",
        "                               patience = 10,\n",
        "                               mode = 'auto',\n",
        "                               restore_best_weights = True)"
      ]
    },
    {
      "cell_type": "code",
      "execution_count": 15,
      "metadata": {
        "id": "HQQjNF6I75Xq"
      },
      "outputs": [],
      "source": [
        "reduce_learning_rate = ReduceLROnPlateau(monitor ='val_accuracy',\n",
        "                                         factor = 0.5,\n",
        "                                         verbose = 1,\n",
        "                                         min_lr = 0.00001)"
      ]
    },
    {
      "cell_type": "code",
      "execution_count": 16,
      "metadata": {
        "id": "zo-i3PIOnhlW"
      },
      "outputs": [],
      "source": [
        "# Create Neural Network\n",
        "\n",
        "model = Sequential()\n",
        "model.add(layers.Conv1D(filters = 32, kernel_size = 5, strides = 5, padding='same', activation='relu'))\n",
        "model.add(layers.BatchNormalization())\n",
        "model.add(layers.MaxPooling1D(pool_size=5,strides = 3, padding='same'))\n",
        "\n",
        "model.add(layers.Conv1D(filters = 32, kernel_size = 5, strides = 5,padding='same', activation='relu'))\n",
        "model.add(layers.BatchNormalization())\n",
        "model.add(layers.MaxPooling1D(pool_size=5,strides = 3, padding='same'))\n",
        "\n",
        "model.add(layers.Conv1D(filters = 16, kernel_size = 5, strides = 5,padding='same', activation='relu'))\n",
        "model.add(layers.BatchNormalization())\n",
        "model.add(layers.MaxPooling1D(pool_size=5,strides = 3, padding='same'))\n",
        "\n",
        "model.add(layers.Conv1D(filters = 16, kernel_size = 5, strides = 5,padding='same', activation='relu'))\n",
        "model.add(layers.BatchNormalization())\n",
        "model.add(layers.MaxPooling1D(pool_size=5,strides = 3, padding='same'))\n",
        "\n",
        "model.add(layers.Conv1D(filters = 8, kernel_size = 5, strides = 5,padding='same', activation='relu'))\n",
        "model.add(layers.BatchNormalization())\n",
        "model.add(layers.MaxPooling1D(pool_size=5,strides = 3, padding='same'))\n",
        "\n",
        "model.add(layers.Conv1D(filters = 8, kernel_size = 5, strides = 5,padding='same', activation='relu'))\n",
        "model.add(layers.BatchNormalization())\n",
        "model.add(layers.MaxPooling1D(pool_size=5,strides = 3, padding='same'))\n",
        "\n",
        "\n",
        "model.add(layers.Flatten())\n",
        "\n",
        "model.add(layers.Dense(32, activation='relu'))\n",
        "\n",
        "model.add(layers.BatchNormalization())\n",
        "\n",
        "model.add(layers.Dense(1, activation='sigmoid'))\n",
        "\n",
        "model.compile('Adam', loss='BinaryCrossentropy', metrics=['accuracy'])"
      ]
    },
    {
      "cell_type": "markdown",
      "metadata": {
        "id": "9JAXX3wSnpf0"
      },
      "source": [
        "# 4. Train the Model"
      ]
    },
    {
      "cell_type": "code",
      "execution_count": 17,
      "metadata": {
        "colab": {
          "base_uri": "https://localhost:8080/"
        },
        "id": "Q92KJIB2nuD2",
        "outputId": "c5bcea19-b969-4661-ad0f-c89c0cce61ed"
      },
      "outputs": [
        {
          "name": "stdout",
          "output_type": "stream",
          "text": [
            "Epoch 1/100\n",
            "40/40 [==============================] - 17s 55ms/step - loss: 0.7105 - accuracy: 0.5938 - val_loss: 0.7065 - val_accuracy: 0.4200 - lr: 0.0010\n",
            "Epoch 2/100\n",
            "40/40 [==============================] - 1s 28ms/step - loss: 0.6094 - accuracy: 0.6662 - val_loss: 0.7272 - val_accuracy: 0.4200 - lr: 0.0010\n",
            "Epoch 3/100\n",
            "40/40 [==============================] - 1s 27ms/step - loss: 0.5752 - accuracy: 0.7212 - val_loss: 0.7399 - val_accuracy: 0.4200 - lr: 0.0010\n",
            "Epoch 4/100\n",
            "40/40 [==============================] - 1s 27ms/step - loss: 0.5589 - accuracy: 0.7475 - val_loss: 0.7451 - val_accuracy: 0.4200 - lr: 0.0010\n",
            "Epoch 5/100\n",
            "40/40 [==============================] - 1s 20ms/step - loss: 0.5459 - accuracy: 0.7325 - val_loss: 0.7455 - val_accuracy: 0.4200 - lr: 0.0010\n",
            "Epoch 6/100\n",
            "40/40 [==============================] - 1s 18ms/step - loss: 0.5053 - accuracy: 0.7588 - val_loss: 0.7407 - val_accuracy: 0.4200 - lr: 0.0010\n",
            "Epoch 7/100\n",
            "40/40 [==============================] - 1s 18ms/step - loss: 0.4808 - accuracy: 0.7788 - val_loss: 0.7227 - val_accuracy: 0.4200 - lr: 0.0010\n",
            "Epoch 8/100\n",
            "40/40 [==============================] - 1s 20ms/step - loss: 0.4687 - accuracy: 0.7987 - val_loss: 0.6362 - val_accuracy: 0.5500 - lr: 0.0010\n",
            "Epoch 9/100\n",
            "40/40 [==============================] - 1s 17ms/step - loss: 0.4516 - accuracy: 0.8075 - val_loss: 0.5278 - val_accuracy: 0.8100 - lr: 0.0010\n",
            "Epoch 10/100\n",
            "40/40 [==============================] - 1s 22ms/step - loss: 0.4667 - accuracy: 0.8087 - val_loss: 0.5063 - val_accuracy: 0.7900 - lr: 0.0010\n",
            "Epoch 11/100\n",
            "40/40 [==============================] - 1s 19ms/step - loss: 0.4306 - accuracy: 0.8288 - val_loss: 0.4441 - val_accuracy: 0.8200 - lr: 0.0010\n",
            "Epoch 12/100\n",
            "40/40 [==============================] - 1s 16ms/step - loss: 0.4317 - accuracy: 0.8225 - val_loss: 0.4479 - val_accuracy: 0.7800 - lr: 0.0010\n",
            "Epoch 13/100\n",
            "40/40 [==============================] - 1s 25ms/step - loss: 0.4187 - accuracy: 0.8338 - val_loss: 0.3920 - val_accuracy: 0.8300 - lr: 0.0010\n",
            "Epoch 14/100\n",
            "40/40 [==============================] - 1s 21ms/step - loss: 0.4402 - accuracy: 0.8075 - val_loss: 0.4162 - val_accuracy: 0.7900 - lr: 0.0010\n",
            "Epoch 15/100\n",
            "40/40 [==============================] - 1s 18ms/step - loss: 0.4136 - accuracy: 0.8288 - val_loss: 0.4004 - val_accuracy: 0.8300 - lr: 0.0010\n",
            "Epoch 16/100\n",
            "40/40 [==============================] - 1s 20ms/step - loss: 0.4017 - accuracy: 0.8250 - val_loss: 0.4329 - val_accuracy: 0.8200 - lr: 0.0010\n",
            "Epoch 17/100\n",
            "40/40 [==============================] - 1s 28ms/step - loss: 0.3920 - accuracy: 0.8300 - val_loss: 0.3808 - val_accuracy: 0.8500 - lr: 0.0010\n",
            "Epoch 18/100\n",
            "40/40 [==============================] - 1s 25ms/step - loss: 0.3715 - accuracy: 0.8425 - val_loss: 0.3758 - val_accuracy: 0.8500 - lr: 0.0010\n",
            "Epoch 19/100\n",
            "40/40 [==============================] - 1s 27ms/step - loss: 0.3832 - accuracy: 0.8375 - val_loss: 0.3505 - val_accuracy: 0.8600 - lr: 0.0010\n",
            "Epoch 20/100\n",
            "40/40 [==============================] - 1s 26ms/step - loss: 0.3651 - accuracy: 0.8512 - val_loss: 0.3891 - val_accuracy: 0.8400 - lr: 0.0010\n",
            "Epoch 21/100\n",
            "40/40 [==============================] - 1s 20ms/step - loss: 0.3690 - accuracy: 0.8450 - val_loss: 0.3508 - val_accuracy: 0.8600 - lr: 0.0010\n",
            "Epoch 22/100\n",
            "40/40 [==============================] - 1s 17ms/step - loss: 0.3888 - accuracy: 0.8475 - val_loss: 0.3642 - val_accuracy: 0.8600 - lr: 0.0010\n",
            "Epoch 23/100\n",
            "40/40 [==============================] - 0s 9ms/step - loss: 0.3866 - accuracy: 0.8350 - val_loss: 0.3249 - val_accuracy: 0.8900 - lr: 0.0010\n",
            "Epoch 24/100\n",
            "40/40 [==============================] - 0s 10ms/step - loss: 0.3620 - accuracy: 0.8275 - val_loss: 0.3320 - val_accuracy: 0.9000 - lr: 0.0010\n",
            "Epoch 25/100\n",
            "40/40 [==============================] - 0s 9ms/step - loss: 0.3710 - accuracy: 0.8487 - val_loss: 0.4177 - val_accuracy: 0.8400 - lr: 0.0010\n",
            "Epoch 26/100\n",
            "40/40 [==============================] - 0s 9ms/step - loss: 0.3762 - accuracy: 0.8500 - val_loss: 0.3913 - val_accuracy: 0.8300 - lr: 0.0010\n",
            "Epoch 27/100\n",
            "40/40 [==============================] - 0s 9ms/step - loss: 0.3605 - accuracy: 0.8462 - val_loss: 0.3683 - val_accuracy: 0.8400 - lr: 0.0010\n",
            "Epoch 28/100\n",
            "40/40 [==============================] - 0s 9ms/step - loss: 0.3542 - accuracy: 0.8450 - val_loss: 0.3571 - val_accuracy: 0.8300 - lr: 0.0010\n",
            "Epoch 29/100\n",
            "40/40 [==============================] - 0s 9ms/step - loss: 0.3466 - accuracy: 0.8537 - val_loss: 0.3877 - val_accuracy: 0.8400 - lr: 0.0010\n",
            "Epoch 30/100\n",
            "40/40 [==============================] - 0s 9ms/step - loss: 0.3446 - accuracy: 0.8450 - val_loss: 0.3778 - val_accuracy: 0.8500 - lr: 0.0010\n",
            "Epoch 31/100\n",
            "40/40 [==============================] - 0s 9ms/step - loss: 0.3380 - accuracy: 0.8525 - val_loss: 0.3558 - val_accuracy: 0.8400 - lr: 0.0010\n",
            "Epoch 32/100\n",
            "40/40 [==============================] - 0s 9ms/step - loss: 0.3323 - accuracy: 0.8662 - val_loss: 0.3316 - val_accuracy: 0.8800 - lr: 0.0010\n",
            "Epoch 33/100\n",
            "40/40 [==============================] - 0s 9ms/step - loss: 0.3378 - accuracy: 0.8625 - val_loss: 0.3655 - val_accuracy: 0.8300 - lr: 0.0010\n",
            "Epoch 34/100\n",
            "36/40 [==========================>...] - ETA: 0s - loss: 0.3277 - accuracy: 0.8653\n",
            "Epoch 34: ReduceLROnPlateau reducing learning rate to 0.0005000000237487257.\n",
            "40/40 [==============================] - 0s 9ms/step - loss: 0.3373 - accuracy: 0.8600 - val_loss: 0.3220 - val_accuracy: 0.8500 - lr: 0.0010\n"
          ]
        }
      ],
      "source": [
        "history_callback_object = model.fit(\n",
        "    x = X_train, y = tf.cast(y_train, tf.float32), batch_size = 20,\n",
        "    epochs = 100, verbose = 1,\n",
        "    shuffle = True,\n",
        "    callbacks = [early_stopping, reduce_learning_rate],\n",
        "    validation_data = ( X_valid, tf.cast(y_valid, tf.float32) ))"
      ]
    },
    {
      "cell_type": "markdown",
      "metadata": {
        "id": "Ax2TYcm391NH"
      },
      "source": [
        "## 4.1 To save history callback object"
      ]
    },
    {
      "cell_type": "code",
      "execution_count": 18,
      "metadata": {
        "id": "y2TcPKrY90cO"
      },
      "outputs": [],
      "source": [
        "file_path_history_callback_object = '\\content\\drive\\MyDrive\\Data\\Model'\n",
        "\n",
        "with open(file_path_history_callback_object, 'wb') as history_callback_object_file:\n",
        "    pickle.dump(history_callback_object.history, history_callback_object_file)\n",
        "\n",
        "# This is used to load the history_callback_object whenever necessary.\n",
        "# with open(file_path_history_callback_object, 'rb') as history_callback_object_file:\n",
        "#     history_callback_object = pickle.load(history_callback_object_file)"
      ]
    },
    {
      "cell_type": "code",
      "execution_count": 19,
      "metadata": {
        "id": "YNTp6MXDLCRW"
      },
      "outputs": [],
      "source": [
        "file_path_model = '/content/drive/MyDrive/Data/Model/model.test'\n",
        "\n",
        "model.save(file_path_model)"
      ]
    },
    {
      "cell_type": "markdown",
      "metadata": {
        "id": "Jy-hv73bnuuh"
      },
      "source": [
        "# 5. Evaluate Model"
      ]
    },
    {
      "cell_type": "code",
      "execution_count": 20,
      "metadata": {
        "colab": {
          "base_uri": "https://localhost:8080/",
          "height": 559
        },
        "id": "8iOkjKNBnyiu",
        "outputId": "1c46105f-d210-4c75-f740-6db2bc2b95a0"
      },
      "outputs": [
        {
          "data": {
            "text/html": [
              "<html>\n",
              "<head><meta charset=\"utf-8\" /></head>\n",
              "<body>\n",
              "    <div>            <script src=\"https://cdnjs.cloudflare.com/ajax/libs/mathjax/2.7.5/MathJax.js?config=TeX-AMS-MML_SVG\"></script><script type=\"text/javascript\">if (window.MathJax && window.MathJax.Hub && window.MathJax.Hub.Config) {window.MathJax.Hub.Config({SVG: {font: \"STIX-Web\"}});}</script>                <script type=\"text/javascript\">window.PlotlyConfig = {MathJaxConfig: 'local'};</script>\n",
              "        <script charset=\"utf-8\" src=\"https://cdn.plot.ly/plotly-2.24.1.min.js\"></script>                <div id=\"ec67e6ce-8a28-4f15-a783-80461fc940d4\" class=\"plotly-graph-div\" style=\"height:525px; width:100%;\"></div>            <script type=\"text/javascript\">                                    window.PLOTLYENV=window.PLOTLYENV || {};                                    if (document.getElementById(\"ec67e6ce-8a28-4f15-a783-80461fc940d4\")) {                    Plotly.newPlot(                        \"ec67e6ce-8a28-4f15-a783-80461fc940d4\",                        [{\"hovertemplate\":\"variable=loss\\u003cbr\\u003eEpoch=%{x}\\u003cbr\\u003eLoss=%{y}\\u003cextra\\u003e\\u003c\\u002fextra\\u003e\",\"legendgroup\":\"loss\",\"line\":{\"color\":\"#636efa\",\"dash\":\"solid\"},\"marker\":{\"symbol\":\"circle\"},\"mode\":\"lines\",\"name\":\"loss\",\"orientation\":\"v\",\"showlegend\":true,\"x\":[0,1,2,3,4,5,6,7,8,9,10,11,12,13,14,15,16,17,18,19,20,21,22,23,24,25,26,27,28,29,30,31,32,33],\"xaxis\":\"x\",\"y\":[0.7104763984680176,0.6093559265136719,0.5752440690994263,0.55885910987854,0.5458944439888,0.5053348541259766,0.48075008392333984,0.4687343239784241,0.4515732526779175,0.46673452854156494,0.4306034445762634,0.4317278563976288,0.41869255900382996,0.4402361810207367,0.4135974049568176,0.4016571044921875,0.3920116126537323,0.37154778838157654,0.3831615149974823,0.3651326894760132,0.368968665599823,0.3888111114501953,0.386625736951828,0.3619615137577057,0.37102004885673523,0.37624984979629517,0.36049574613571167,0.35423269867897034,0.34662577509880066,0.3446390926837921,0.33797043561935425,0.3322930634021759,0.3378303647041321,0.33732691407203674],\"yaxis\":\"y\",\"type\":\"scatter\"},{\"hovertemplate\":\"variable=val_loss\\u003cbr\\u003eEpoch=%{x}\\u003cbr\\u003eLoss=%{y}\\u003cextra\\u003e\\u003c\\u002fextra\\u003e\",\"legendgroup\":\"val_loss\",\"line\":{\"color\":\"#EF553B\",\"dash\":\"solid\"},\"marker\":{\"symbol\":\"circle\"},\"mode\":\"lines\",\"name\":\"val_loss\",\"orientation\":\"v\",\"showlegend\":true,\"x\":[0,1,2,3,4,5,6,7,8,9,10,11,12,13,14,15,16,17,18,19,20,21,22,23,24,25,26,27,28,29,30,31,32,33],\"xaxis\":\"x\",\"y\":[0.7064751386642456,0.7272229194641113,0.739879846572876,0.7450622320175171,0.7455482482910156,0.7407210469245911,0.7226576209068298,0.6361793279647827,0.5278080701828003,0.5063411593437195,0.4441230893135071,0.4479488730430603,0.39196404814720154,0.4161878228187561,0.400370717048645,0.4329090118408203,0.3807501196861267,0.37580177187919617,0.35048386454582214,0.3890586495399475,0.3508208096027374,0.3642347455024719,0.3248897194862366,0.33202019333839417,0.4177296459674835,0.39134320616722107,0.3683320879936218,0.3570996820926666,0.38768208026885986,0.3777898848056793,0.35582026839256287,0.331608384847641,0.36550793051719666,0.3220025300979614],\"yaxis\":\"y\",\"type\":\"scatter\"}],                        {\"template\":{\"data\":{\"histogram2dcontour\":[{\"type\":\"histogram2dcontour\",\"colorbar\":{\"outlinewidth\":0,\"ticks\":\"\"},\"colorscale\":[[0.0,\"#0d0887\"],[0.1111111111111111,\"#46039f\"],[0.2222222222222222,\"#7201a8\"],[0.3333333333333333,\"#9c179e\"],[0.4444444444444444,\"#bd3786\"],[0.5555555555555556,\"#d8576b\"],[0.6666666666666666,\"#ed7953\"],[0.7777777777777778,\"#fb9f3a\"],[0.8888888888888888,\"#fdca26\"],[1.0,\"#f0f921\"]]}],\"choropleth\":[{\"type\":\"choropleth\",\"colorbar\":{\"outlinewidth\":0,\"ticks\":\"\"}}],\"histogram2d\":[{\"type\":\"histogram2d\",\"colorbar\":{\"outlinewidth\":0,\"ticks\":\"\"},\"colorscale\":[[0.0,\"#0d0887\"],[0.1111111111111111,\"#46039f\"],[0.2222222222222222,\"#7201a8\"],[0.3333333333333333,\"#9c179e\"],[0.4444444444444444,\"#bd3786\"],[0.5555555555555556,\"#d8576b\"],[0.6666666666666666,\"#ed7953\"],[0.7777777777777778,\"#fb9f3a\"],[0.8888888888888888,\"#fdca26\"],[1.0,\"#f0f921\"]]}],\"heatmap\":[{\"type\":\"heatmap\",\"colorbar\":{\"outlinewidth\":0,\"ticks\":\"\"},\"colorscale\":[[0.0,\"#0d0887\"],[0.1111111111111111,\"#46039f\"],[0.2222222222222222,\"#7201a8\"],[0.3333333333333333,\"#9c179e\"],[0.4444444444444444,\"#bd3786\"],[0.5555555555555556,\"#d8576b\"],[0.6666666666666666,\"#ed7953\"],[0.7777777777777778,\"#fb9f3a\"],[0.8888888888888888,\"#fdca26\"],[1.0,\"#f0f921\"]]}],\"heatmapgl\":[{\"type\":\"heatmapgl\",\"colorbar\":{\"outlinewidth\":0,\"ticks\":\"\"},\"colorscale\":[[0.0,\"#0d0887\"],[0.1111111111111111,\"#46039f\"],[0.2222222222222222,\"#7201a8\"],[0.3333333333333333,\"#9c179e\"],[0.4444444444444444,\"#bd3786\"],[0.5555555555555556,\"#d8576b\"],[0.6666666666666666,\"#ed7953\"],[0.7777777777777778,\"#fb9f3a\"],[0.8888888888888888,\"#fdca26\"],[1.0,\"#f0f921\"]]}],\"contourcarpet\":[{\"type\":\"contourcarpet\",\"colorbar\":{\"outlinewidth\":0,\"ticks\":\"\"}}],\"contour\":[{\"type\":\"contour\",\"colorbar\":{\"outlinewidth\":0,\"ticks\":\"\"},\"colorscale\":[[0.0,\"#0d0887\"],[0.1111111111111111,\"#46039f\"],[0.2222222222222222,\"#7201a8\"],[0.3333333333333333,\"#9c179e\"],[0.4444444444444444,\"#bd3786\"],[0.5555555555555556,\"#d8576b\"],[0.6666666666666666,\"#ed7953\"],[0.7777777777777778,\"#fb9f3a\"],[0.8888888888888888,\"#fdca26\"],[1.0,\"#f0f921\"]]}],\"surface\":[{\"type\":\"surface\",\"colorbar\":{\"outlinewidth\":0,\"ticks\":\"\"},\"colorscale\":[[0.0,\"#0d0887\"],[0.1111111111111111,\"#46039f\"],[0.2222222222222222,\"#7201a8\"],[0.3333333333333333,\"#9c179e\"],[0.4444444444444444,\"#bd3786\"],[0.5555555555555556,\"#d8576b\"],[0.6666666666666666,\"#ed7953\"],[0.7777777777777778,\"#fb9f3a\"],[0.8888888888888888,\"#fdca26\"],[1.0,\"#f0f921\"]]}],\"mesh3d\":[{\"type\":\"mesh3d\",\"colorbar\":{\"outlinewidth\":0,\"ticks\":\"\"}}],\"scatter\":[{\"fillpattern\":{\"fillmode\":\"overlay\",\"size\":10,\"solidity\":0.2},\"type\":\"scatter\"}],\"parcoords\":[{\"type\":\"parcoords\",\"line\":{\"colorbar\":{\"outlinewidth\":0,\"ticks\":\"\"}}}],\"scatterpolargl\":[{\"type\":\"scatterpolargl\",\"marker\":{\"colorbar\":{\"outlinewidth\":0,\"ticks\":\"\"}}}],\"bar\":[{\"error_x\":{\"color\":\"#2a3f5f\"},\"error_y\":{\"color\":\"#2a3f5f\"},\"marker\":{\"line\":{\"color\":\"#E5ECF6\",\"width\":0.5},\"pattern\":{\"fillmode\":\"overlay\",\"size\":10,\"solidity\":0.2}},\"type\":\"bar\"}],\"scattergeo\":[{\"type\":\"scattergeo\",\"marker\":{\"colorbar\":{\"outlinewidth\":0,\"ticks\":\"\"}}}],\"scatterpolar\":[{\"type\":\"scatterpolar\",\"marker\":{\"colorbar\":{\"outlinewidth\":0,\"ticks\":\"\"}}}],\"histogram\":[{\"marker\":{\"pattern\":{\"fillmode\":\"overlay\",\"size\":10,\"solidity\":0.2}},\"type\":\"histogram\"}],\"scattergl\":[{\"type\":\"scattergl\",\"marker\":{\"colorbar\":{\"outlinewidth\":0,\"ticks\":\"\"}}}],\"scatter3d\":[{\"type\":\"scatter3d\",\"line\":{\"colorbar\":{\"outlinewidth\":0,\"ticks\":\"\"}},\"marker\":{\"colorbar\":{\"outlinewidth\":0,\"ticks\":\"\"}}}],\"scattermapbox\":[{\"type\":\"scattermapbox\",\"marker\":{\"colorbar\":{\"outlinewidth\":0,\"ticks\":\"\"}}}],\"scatterternary\":[{\"type\":\"scatterternary\",\"marker\":{\"colorbar\":{\"outlinewidth\":0,\"ticks\":\"\"}}}],\"scattercarpet\":[{\"type\":\"scattercarpet\",\"marker\":{\"colorbar\":{\"outlinewidth\":0,\"ticks\":\"\"}}}],\"carpet\":[{\"aaxis\":{\"endlinecolor\":\"#2a3f5f\",\"gridcolor\":\"white\",\"linecolor\":\"white\",\"minorgridcolor\":\"white\",\"startlinecolor\":\"#2a3f5f\"},\"baxis\":{\"endlinecolor\":\"#2a3f5f\",\"gridcolor\":\"white\",\"linecolor\":\"white\",\"minorgridcolor\":\"white\",\"startlinecolor\":\"#2a3f5f\"},\"type\":\"carpet\"}],\"table\":[{\"cells\":{\"fill\":{\"color\":\"#EBF0F8\"},\"line\":{\"color\":\"white\"}},\"header\":{\"fill\":{\"color\":\"#C8D4E3\"},\"line\":{\"color\":\"white\"}},\"type\":\"table\"}],\"barpolar\":[{\"marker\":{\"line\":{\"color\":\"#E5ECF6\",\"width\":0.5},\"pattern\":{\"fillmode\":\"overlay\",\"size\":10,\"solidity\":0.2}},\"type\":\"barpolar\"}],\"pie\":[{\"automargin\":true,\"type\":\"pie\"}]},\"layout\":{\"autotypenumbers\":\"strict\",\"colorway\":[\"#636efa\",\"#EF553B\",\"#00cc96\",\"#ab63fa\",\"#FFA15A\",\"#19d3f3\",\"#FF6692\",\"#B6E880\",\"#FF97FF\",\"#FECB52\"],\"font\":{\"color\":\"#2a3f5f\"},\"hovermode\":\"closest\",\"hoverlabel\":{\"align\":\"left\"},\"paper_bgcolor\":\"white\",\"plot_bgcolor\":\"#E5ECF6\",\"polar\":{\"bgcolor\":\"#E5ECF6\",\"angularaxis\":{\"gridcolor\":\"white\",\"linecolor\":\"white\",\"ticks\":\"\"},\"radialaxis\":{\"gridcolor\":\"white\",\"linecolor\":\"white\",\"ticks\":\"\"}},\"ternary\":{\"bgcolor\":\"#E5ECF6\",\"aaxis\":{\"gridcolor\":\"white\",\"linecolor\":\"white\",\"ticks\":\"\"},\"baxis\":{\"gridcolor\":\"white\",\"linecolor\":\"white\",\"ticks\":\"\"},\"caxis\":{\"gridcolor\":\"white\",\"linecolor\":\"white\",\"ticks\":\"\"}},\"coloraxis\":{\"colorbar\":{\"outlinewidth\":0,\"ticks\":\"\"}},\"colorscale\":{\"sequential\":[[0.0,\"#0d0887\"],[0.1111111111111111,\"#46039f\"],[0.2222222222222222,\"#7201a8\"],[0.3333333333333333,\"#9c179e\"],[0.4444444444444444,\"#bd3786\"],[0.5555555555555556,\"#d8576b\"],[0.6666666666666666,\"#ed7953\"],[0.7777777777777778,\"#fb9f3a\"],[0.8888888888888888,\"#fdca26\"],[1.0,\"#f0f921\"]],\"sequentialminus\":[[0.0,\"#0d0887\"],[0.1111111111111111,\"#46039f\"],[0.2222222222222222,\"#7201a8\"],[0.3333333333333333,\"#9c179e\"],[0.4444444444444444,\"#bd3786\"],[0.5555555555555556,\"#d8576b\"],[0.6666666666666666,\"#ed7953\"],[0.7777777777777778,\"#fb9f3a\"],[0.8888888888888888,\"#fdca26\"],[1.0,\"#f0f921\"]],\"diverging\":[[0,\"#8e0152\"],[0.1,\"#c51b7d\"],[0.2,\"#de77ae\"],[0.3,\"#f1b6da\"],[0.4,\"#fde0ef\"],[0.5,\"#f7f7f7\"],[0.6,\"#e6f5d0\"],[0.7,\"#b8e186\"],[0.8,\"#7fbc41\"],[0.9,\"#4d9221\"],[1,\"#276419\"]]},\"xaxis\":{\"gridcolor\":\"white\",\"linecolor\":\"white\",\"ticks\":\"\",\"title\":{\"standoff\":15},\"zerolinecolor\":\"white\",\"automargin\":true,\"zerolinewidth\":2},\"yaxis\":{\"gridcolor\":\"white\",\"linecolor\":\"white\",\"ticks\":\"\",\"title\":{\"standoff\":15},\"zerolinecolor\":\"white\",\"automargin\":true,\"zerolinewidth\":2},\"scene\":{\"xaxis\":{\"backgroundcolor\":\"#E5ECF6\",\"gridcolor\":\"white\",\"linecolor\":\"white\",\"showbackground\":true,\"ticks\":\"\",\"zerolinecolor\":\"white\",\"gridwidth\":2},\"yaxis\":{\"backgroundcolor\":\"#E5ECF6\",\"gridcolor\":\"white\",\"linecolor\":\"white\",\"showbackground\":true,\"ticks\":\"\",\"zerolinecolor\":\"white\",\"gridwidth\":2},\"zaxis\":{\"backgroundcolor\":\"#E5ECF6\",\"gridcolor\":\"white\",\"linecolor\":\"white\",\"showbackground\":true,\"ticks\":\"\",\"zerolinecolor\":\"white\",\"gridwidth\":2}},\"shapedefaults\":{\"line\":{\"color\":\"#2a3f5f\"}},\"annotationdefaults\":{\"arrowcolor\":\"#2a3f5f\",\"arrowhead\":0,\"arrowwidth\":1},\"geo\":{\"bgcolor\":\"white\",\"landcolor\":\"#E5ECF6\",\"subunitcolor\":\"white\",\"showland\":true,\"showlakes\":true,\"lakecolor\":\"white\"},\"title\":{\"x\":0.05},\"mapbox\":{\"style\":\"light\"}}},\"xaxis\":{\"anchor\":\"y\",\"domain\":[0.0,1.0],\"title\":{\"text\":\"Epoch\"}},\"yaxis\":{\"anchor\":\"x\",\"domain\":[0.0,1.0],\"title\":{\"text\":\"Loss\"}},\"legend\":{\"title\":{\"text\":\"variable\"},\"tracegroupgap\":0},\"title\":{\"text\":\"Loss vs Epoch\"}},                        {\"responsive\": true}                    ).then(function(){\n",
              "                            \n",
              "var gd = document.getElementById('ec67e6ce-8a28-4f15-a783-80461fc940d4');\n",
              "var x = new MutationObserver(function (mutations, observer) {{\n",
              "        var display = window.getComputedStyle(gd).display;\n",
              "        if (!display || display === 'none') {{\n",
              "            console.log([gd, 'removed!']);\n",
              "            Plotly.purge(gd);\n",
              "            observer.disconnect();\n",
              "        }}\n",
              "}});\n",
              "\n",
              "// Listen for the removal of the full notebook cells\n",
              "var notebookContainer = gd.closest('#notebook-container');\n",
              "if (notebookContainer) {{\n",
              "    x.observe(notebookContainer, {childList: true});\n",
              "}}\n",
              "\n",
              "// Listen for the clearing of the current output cell\n",
              "var outputEl = gd.closest('.output');\n",
              "if (outputEl) {{\n",
              "    x.observe(outputEl, {childList: true});\n",
              "}}\n",
              "\n",
              "                        })                };                            </script>        </div>\n",
              "</body>\n",
              "</html>"
            ]
          },
          "metadata": {},
          "output_type": "display_data"
        },
        {
          "data": {
            "text/plain": [
              "dict_keys(['loss', 'accuracy', 'val_loss', 'val_accuracy', 'lr'])"
            ]
          },
          "execution_count": 20,
          "metadata": {},
          "output_type": "execute_result"
        }
      ],
      "source": [
        "fig = px.line(data_frame = history_callback_object.history,\n",
        "              y = ['loss', 'val_loss'],\n",
        "              labels = {'index':'Epoch', 'value':'Loss'},\n",
        "              title = 'Loss vs Epoch')\n",
        "fig.show()\n",
        "\n",
        "history_callback_object.history.keys()"
      ]
    },
    {
      "cell_type": "code",
      "execution_count": 21,
      "metadata": {
        "colab": {
          "base_uri": "https://localhost:8080/",
          "height": 559
        },
        "id": "jpBUUf57McGh",
        "outputId": "6d442251-57dc-4b2e-bb43-817957a4a147"
      },
      "outputs": [
        {
          "data": {
            "text/html": [
              "<html>\n",
              "<head><meta charset=\"utf-8\" /></head>\n",
              "<body>\n",
              "    <div>            <script src=\"https://cdnjs.cloudflare.com/ajax/libs/mathjax/2.7.5/MathJax.js?config=TeX-AMS-MML_SVG\"></script><script type=\"text/javascript\">if (window.MathJax && window.MathJax.Hub && window.MathJax.Hub.Config) {window.MathJax.Hub.Config({SVG: {font: \"STIX-Web\"}});}</script>                <script type=\"text/javascript\">window.PlotlyConfig = {MathJaxConfig: 'local'};</script>\n",
              "        <script charset=\"utf-8\" src=\"https://cdn.plot.ly/plotly-2.24.1.min.js\"></script>                <div id=\"42291deb-46eb-4a86-8e13-664d936d3121\" class=\"plotly-graph-div\" style=\"height:525px; width:100%;\"></div>            <script type=\"text/javascript\">                                    window.PLOTLYENV=window.PLOTLYENV || {};                                    if (document.getElementById(\"42291deb-46eb-4a86-8e13-664d936d3121\")) {                    Plotly.newPlot(                        \"42291deb-46eb-4a86-8e13-664d936d3121\",                        [{\"hovertemplate\":\"variable=accuracy\\u003cbr\\u003eEpoch=%{x}\\u003cbr\\u003eAccuracy=%{y}\\u003cextra\\u003e\\u003c\\u002fextra\\u003e\",\"legendgroup\":\"accuracy\",\"line\":{\"color\":\"#636efa\",\"dash\":\"solid\"},\"marker\":{\"symbol\":\"circle\"},\"mode\":\"lines\",\"name\":\"accuracy\",\"orientation\":\"v\",\"showlegend\":true,\"x\":[0,1,2,3,4,5,6,7,8,9,10,11,12,13,14,15,16,17,18,19,20,21,22,23,24,25,26,27,28,29,30,31,32,33],\"xaxis\":\"x\",\"y\":[0.59375,0.6662499904632568,0.7212499976158142,0.7475000023841858,0.7325000166893005,0.7587500214576721,0.7787500023841858,0.7987499833106995,0.8075000047683716,0.8087499737739563,0.8287500143051147,0.8224999904632568,0.8337500095367432,0.8075000047683716,0.8287500143051147,0.824999988079071,0.8299999833106995,0.8424999713897705,0.8374999761581421,0.8512499928474426,0.8450000286102295,0.8475000262260437,0.8349999785423279,0.8274999856948853,0.8487499952316284,0.8500000238418579,0.8462499976158142,0.8450000286102295,0.8537499904632568,0.8450000286102295,0.8525000214576721,0.8662499785423279,0.862500011920929,0.8600000143051147],\"yaxis\":\"y\",\"type\":\"scatter\"},{\"hovertemplate\":\"variable=val_accuracy\\u003cbr\\u003eEpoch=%{x}\\u003cbr\\u003eAccuracy=%{y}\\u003cextra\\u003e\\u003c\\u002fextra\\u003e\",\"legendgroup\":\"val_accuracy\",\"line\":{\"color\":\"#EF553B\",\"dash\":\"solid\"},\"marker\":{\"symbol\":\"circle\"},\"mode\":\"lines\",\"name\":\"val_accuracy\",\"orientation\":\"v\",\"showlegend\":true,\"x\":[0,1,2,3,4,5,6,7,8,9,10,11,12,13,14,15,16,17,18,19,20,21,22,23,24,25,26,27,28,29,30,31,32,33],\"xaxis\":\"x\",\"y\":[0.41999998688697815,0.41999998688697815,0.41999998688697815,0.41999998688697815,0.41999998688697815,0.41999998688697815,0.41999998688697815,0.550000011920929,0.8100000023841858,0.7900000214576721,0.8199999928474426,0.7799999713897705,0.8299999833106995,0.7900000214576721,0.8299999833106995,0.8199999928474426,0.8500000238418579,0.8500000238418579,0.8600000143051147,0.8399999737739563,0.8600000143051147,0.8600000143051147,0.8899999856948853,0.8999999761581421,0.8399999737739563,0.8299999833106995,0.8399999737739563,0.8299999833106995,0.8399999737739563,0.8500000238418579,0.8399999737739563,0.8799999952316284,0.8299999833106995,0.8500000238418579],\"yaxis\":\"y\",\"type\":\"scatter\"}],                        {\"template\":{\"data\":{\"histogram2dcontour\":[{\"type\":\"histogram2dcontour\",\"colorbar\":{\"outlinewidth\":0,\"ticks\":\"\"},\"colorscale\":[[0.0,\"#0d0887\"],[0.1111111111111111,\"#46039f\"],[0.2222222222222222,\"#7201a8\"],[0.3333333333333333,\"#9c179e\"],[0.4444444444444444,\"#bd3786\"],[0.5555555555555556,\"#d8576b\"],[0.6666666666666666,\"#ed7953\"],[0.7777777777777778,\"#fb9f3a\"],[0.8888888888888888,\"#fdca26\"],[1.0,\"#f0f921\"]]}],\"choropleth\":[{\"type\":\"choropleth\",\"colorbar\":{\"outlinewidth\":0,\"ticks\":\"\"}}],\"histogram2d\":[{\"type\":\"histogram2d\",\"colorbar\":{\"outlinewidth\":0,\"ticks\":\"\"},\"colorscale\":[[0.0,\"#0d0887\"],[0.1111111111111111,\"#46039f\"],[0.2222222222222222,\"#7201a8\"],[0.3333333333333333,\"#9c179e\"],[0.4444444444444444,\"#bd3786\"],[0.5555555555555556,\"#d8576b\"],[0.6666666666666666,\"#ed7953\"],[0.7777777777777778,\"#fb9f3a\"],[0.8888888888888888,\"#fdca26\"],[1.0,\"#f0f921\"]]}],\"heatmap\":[{\"type\":\"heatmap\",\"colorbar\":{\"outlinewidth\":0,\"ticks\":\"\"},\"colorscale\":[[0.0,\"#0d0887\"],[0.1111111111111111,\"#46039f\"],[0.2222222222222222,\"#7201a8\"],[0.3333333333333333,\"#9c179e\"],[0.4444444444444444,\"#bd3786\"],[0.5555555555555556,\"#d8576b\"],[0.6666666666666666,\"#ed7953\"],[0.7777777777777778,\"#fb9f3a\"],[0.8888888888888888,\"#fdca26\"],[1.0,\"#f0f921\"]]}],\"heatmapgl\":[{\"type\":\"heatmapgl\",\"colorbar\":{\"outlinewidth\":0,\"ticks\":\"\"},\"colorscale\":[[0.0,\"#0d0887\"],[0.1111111111111111,\"#46039f\"],[0.2222222222222222,\"#7201a8\"],[0.3333333333333333,\"#9c179e\"],[0.4444444444444444,\"#bd3786\"],[0.5555555555555556,\"#d8576b\"],[0.6666666666666666,\"#ed7953\"],[0.7777777777777778,\"#fb9f3a\"],[0.8888888888888888,\"#fdca26\"],[1.0,\"#f0f921\"]]}],\"contourcarpet\":[{\"type\":\"contourcarpet\",\"colorbar\":{\"outlinewidth\":0,\"ticks\":\"\"}}],\"contour\":[{\"type\":\"contour\",\"colorbar\":{\"outlinewidth\":0,\"ticks\":\"\"},\"colorscale\":[[0.0,\"#0d0887\"],[0.1111111111111111,\"#46039f\"],[0.2222222222222222,\"#7201a8\"],[0.3333333333333333,\"#9c179e\"],[0.4444444444444444,\"#bd3786\"],[0.5555555555555556,\"#d8576b\"],[0.6666666666666666,\"#ed7953\"],[0.7777777777777778,\"#fb9f3a\"],[0.8888888888888888,\"#fdca26\"],[1.0,\"#f0f921\"]]}],\"surface\":[{\"type\":\"surface\",\"colorbar\":{\"outlinewidth\":0,\"ticks\":\"\"},\"colorscale\":[[0.0,\"#0d0887\"],[0.1111111111111111,\"#46039f\"],[0.2222222222222222,\"#7201a8\"],[0.3333333333333333,\"#9c179e\"],[0.4444444444444444,\"#bd3786\"],[0.5555555555555556,\"#d8576b\"],[0.6666666666666666,\"#ed7953\"],[0.7777777777777778,\"#fb9f3a\"],[0.8888888888888888,\"#fdca26\"],[1.0,\"#f0f921\"]]}],\"mesh3d\":[{\"type\":\"mesh3d\",\"colorbar\":{\"outlinewidth\":0,\"ticks\":\"\"}}],\"scatter\":[{\"fillpattern\":{\"fillmode\":\"overlay\",\"size\":10,\"solidity\":0.2},\"type\":\"scatter\"}],\"parcoords\":[{\"type\":\"parcoords\",\"line\":{\"colorbar\":{\"outlinewidth\":0,\"ticks\":\"\"}}}],\"scatterpolargl\":[{\"type\":\"scatterpolargl\",\"marker\":{\"colorbar\":{\"outlinewidth\":0,\"ticks\":\"\"}}}],\"bar\":[{\"error_x\":{\"color\":\"#2a3f5f\"},\"error_y\":{\"color\":\"#2a3f5f\"},\"marker\":{\"line\":{\"color\":\"#E5ECF6\",\"width\":0.5},\"pattern\":{\"fillmode\":\"overlay\",\"size\":10,\"solidity\":0.2}},\"type\":\"bar\"}],\"scattergeo\":[{\"type\":\"scattergeo\",\"marker\":{\"colorbar\":{\"outlinewidth\":0,\"ticks\":\"\"}}}],\"scatterpolar\":[{\"type\":\"scatterpolar\",\"marker\":{\"colorbar\":{\"outlinewidth\":0,\"ticks\":\"\"}}}],\"histogram\":[{\"marker\":{\"pattern\":{\"fillmode\":\"overlay\",\"size\":10,\"solidity\":0.2}},\"type\":\"histogram\"}],\"scattergl\":[{\"type\":\"scattergl\",\"marker\":{\"colorbar\":{\"outlinewidth\":0,\"ticks\":\"\"}}}],\"scatter3d\":[{\"type\":\"scatter3d\",\"line\":{\"colorbar\":{\"outlinewidth\":0,\"ticks\":\"\"}},\"marker\":{\"colorbar\":{\"outlinewidth\":0,\"ticks\":\"\"}}}],\"scattermapbox\":[{\"type\":\"scattermapbox\",\"marker\":{\"colorbar\":{\"outlinewidth\":0,\"ticks\":\"\"}}}],\"scatterternary\":[{\"type\":\"scatterternary\",\"marker\":{\"colorbar\":{\"outlinewidth\":0,\"ticks\":\"\"}}}],\"scattercarpet\":[{\"type\":\"scattercarpet\",\"marker\":{\"colorbar\":{\"outlinewidth\":0,\"ticks\":\"\"}}}],\"carpet\":[{\"aaxis\":{\"endlinecolor\":\"#2a3f5f\",\"gridcolor\":\"white\",\"linecolor\":\"white\",\"minorgridcolor\":\"white\",\"startlinecolor\":\"#2a3f5f\"},\"baxis\":{\"endlinecolor\":\"#2a3f5f\",\"gridcolor\":\"white\",\"linecolor\":\"white\",\"minorgridcolor\":\"white\",\"startlinecolor\":\"#2a3f5f\"},\"type\":\"carpet\"}],\"table\":[{\"cells\":{\"fill\":{\"color\":\"#EBF0F8\"},\"line\":{\"color\":\"white\"}},\"header\":{\"fill\":{\"color\":\"#C8D4E3\"},\"line\":{\"color\":\"white\"}},\"type\":\"table\"}],\"barpolar\":[{\"marker\":{\"line\":{\"color\":\"#E5ECF6\",\"width\":0.5},\"pattern\":{\"fillmode\":\"overlay\",\"size\":10,\"solidity\":0.2}},\"type\":\"barpolar\"}],\"pie\":[{\"automargin\":true,\"type\":\"pie\"}]},\"layout\":{\"autotypenumbers\":\"strict\",\"colorway\":[\"#636efa\",\"#EF553B\",\"#00cc96\",\"#ab63fa\",\"#FFA15A\",\"#19d3f3\",\"#FF6692\",\"#B6E880\",\"#FF97FF\",\"#FECB52\"],\"font\":{\"color\":\"#2a3f5f\"},\"hovermode\":\"closest\",\"hoverlabel\":{\"align\":\"left\"},\"paper_bgcolor\":\"white\",\"plot_bgcolor\":\"#E5ECF6\",\"polar\":{\"bgcolor\":\"#E5ECF6\",\"angularaxis\":{\"gridcolor\":\"white\",\"linecolor\":\"white\",\"ticks\":\"\"},\"radialaxis\":{\"gridcolor\":\"white\",\"linecolor\":\"white\",\"ticks\":\"\"}},\"ternary\":{\"bgcolor\":\"#E5ECF6\",\"aaxis\":{\"gridcolor\":\"white\",\"linecolor\":\"white\",\"ticks\":\"\"},\"baxis\":{\"gridcolor\":\"white\",\"linecolor\":\"white\",\"ticks\":\"\"},\"caxis\":{\"gridcolor\":\"white\",\"linecolor\":\"white\",\"ticks\":\"\"}},\"coloraxis\":{\"colorbar\":{\"outlinewidth\":0,\"ticks\":\"\"}},\"colorscale\":{\"sequential\":[[0.0,\"#0d0887\"],[0.1111111111111111,\"#46039f\"],[0.2222222222222222,\"#7201a8\"],[0.3333333333333333,\"#9c179e\"],[0.4444444444444444,\"#bd3786\"],[0.5555555555555556,\"#d8576b\"],[0.6666666666666666,\"#ed7953\"],[0.7777777777777778,\"#fb9f3a\"],[0.8888888888888888,\"#fdca26\"],[1.0,\"#f0f921\"]],\"sequentialminus\":[[0.0,\"#0d0887\"],[0.1111111111111111,\"#46039f\"],[0.2222222222222222,\"#7201a8\"],[0.3333333333333333,\"#9c179e\"],[0.4444444444444444,\"#bd3786\"],[0.5555555555555556,\"#d8576b\"],[0.6666666666666666,\"#ed7953\"],[0.7777777777777778,\"#fb9f3a\"],[0.8888888888888888,\"#fdca26\"],[1.0,\"#f0f921\"]],\"diverging\":[[0,\"#8e0152\"],[0.1,\"#c51b7d\"],[0.2,\"#de77ae\"],[0.3,\"#f1b6da\"],[0.4,\"#fde0ef\"],[0.5,\"#f7f7f7\"],[0.6,\"#e6f5d0\"],[0.7,\"#b8e186\"],[0.8,\"#7fbc41\"],[0.9,\"#4d9221\"],[1,\"#276419\"]]},\"xaxis\":{\"gridcolor\":\"white\",\"linecolor\":\"white\",\"ticks\":\"\",\"title\":{\"standoff\":15},\"zerolinecolor\":\"white\",\"automargin\":true,\"zerolinewidth\":2},\"yaxis\":{\"gridcolor\":\"white\",\"linecolor\":\"white\",\"ticks\":\"\",\"title\":{\"standoff\":15},\"zerolinecolor\":\"white\",\"automargin\":true,\"zerolinewidth\":2},\"scene\":{\"xaxis\":{\"backgroundcolor\":\"#E5ECF6\",\"gridcolor\":\"white\",\"linecolor\":\"white\",\"showbackground\":true,\"ticks\":\"\",\"zerolinecolor\":\"white\",\"gridwidth\":2},\"yaxis\":{\"backgroundcolor\":\"#E5ECF6\",\"gridcolor\":\"white\",\"linecolor\":\"white\",\"showbackground\":true,\"ticks\":\"\",\"zerolinecolor\":\"white\",\"gridwidth\":2},\"zaxis\":{\"backgroundcolor\":\"#E5ECF6\",\"gridcolor\":\"white\",\"linecolor\":\"white\",\"showbackground\":true,\"ticks\":\"\",\"zerolinecolor\":\"white\",\"gridwidth\":2}},\"shapedefaults\":{\"line\":{\"color\":\"#2a3f5f\"}},\"annotationdefaults\":{\"arrowcolor\":\"#2a3f5f\",\"arrowhead\":0,\"arrowwidth\":1},\"geo\":{\"bgcolor\":\"white\",\"landcolor\":\"#E5ECF6\",\"subunitcolor\":\"white\",\"showland\":true,\"showlakes\":true,\"lakecolor\":\"white\"},\"title\":{\"x\":0.05},\"mapbox\":{\"style\":\"light\"}}},\"xaxis\":{\"anchor\":\"y\",\"domain\":[0.0,1.0],\"title\":{\"text\":\"Epoch\"}},\"yaxis\":{\"anchor\":\"x\",\"domain\":[0.0,1.0],\"title\":{\"text\":\"Accuracy\"}},\"legend\":{\"title\":{\"text\":\"variable\"},\"tracegroupgap\":0},\"title\":{\"text\":\"Accuracy vs Epoch\"}},                        {\"responsive\": true}                    ).then(function(){\n",
              "                            \n",
              "var gd = document.getElementById('42291deb-46eb-4a86-8e13-664d936d3121');\n",
              "var x = new MutationObserver(function (mutations, observer) {{\n",
              "        var display = window.getComputedStyle(gd).display;\n",
              "        if (!display || display === 'none') {{\n",
              "            console.log([gd, 'removed!']);\n",
              "            Plotly.purge(gd);\n",
              "            observer.disconnect();\n",
              "        }}\n",
              "}});\n",
              "\n",
              "// Listen for the removal of the full notebook cells\n",
              "var notebookContainer = gd.closest('#notebook-container');\n",
              "if (notebookContainer) {{\n",
              "    x.observe(notebookContainer, {childList: true});\n",
              "}}\n",
              "\n",
              "// Listen for the clearing of the current output cell\n",
              "var outputEl = gd.closest('.output');\n",
              "if (outputEl) {{\n",
              "    x.observe(outputEl, {childList: true});\n",
              "}}\n",
              "\n",
              "                        })                };                            </script>        </div>\n",
              "</body>\n",
              "</html>"
            ]
          },
          "metadata": {},
          "output_type": "display_data"
        },
        {
          "data": {
            "text/plain": [
              "dict_keys(['loss', 'accuracy', 'val_loss', 'val_accuracy', 'lr'])"
            ]
          },
          "execution_count": 21,
          "metadata": {},
          "output_type": "execute_result"
        }
      ],
      "source": [
        "fig = px.line(data_frame = history_callback_object.history,\n",
        "              y = ['accuracy', 'val_accuracy'],\n",
        "              labels = {'index':'Epoch', 'value':'Accuracy'},\n",
        "              title = 'Accuracy vs Epoch')\n",
        "fig.show()\n",
        "\n",
        "history_callback_object.history.keys()"
      ]
    },
    {
      "cell_type": "code",
      "execution_count": 22,
      "metadata": {
        "colab": {
          "base_uri": "https://localhost:8080/",
          "height": 249
        },
        "id": "aHBP7L1JMpTO",
        "outputId": "dd2e8a8e-5fbc-4db9-e8c3-124a8db8265f"
      },
      "outputs": [
        {
          "data": {
            "image/png": "[encoded data removed]",
            "text/plain": [
              "<Figure size 3500x1000 with 2 Axes>"
            ]
          },
          "metadata": {},
          "output_type": "display_data"
        },
        {
          "data": {
            "text/plain": [
              "dict_keys(['loss', 'accuracy', 'val_loss', 'val_accuracy', 'lr'])"
            ]
          },
          "execution_count": 22,
          "metadata": {},
          "output_type": "execute_result"
        }
      ],
      "source": [
        "fig, (ax1, ax2) = plt.subplots(1, 2)\n",
        "ax1.plot(history_callback_object.history['loss'], label = 'loss')\n",
        "ax1.plot(history_callback_object.history['val_loss'], label = 'val_loss')\n",
        "ax1.legend()\n",
        "ax1.set_xlabel('Epoch')\n",
        "ax1.set_ylabel('Loss')\n",
        "ax1.set_title('Loss vs Epoch')\n",
        "ax1.grid(True)\n",
        "\n",
        "ax2.plot(history_callback_object.history['accuracy'], label = 'accuracy')\n",
        "ax2.plot(history_callback_object.history['val_accuracy'], label = 'val_accuracy')\n",
        "ax2.legend()\n",
        "ax2.set_xlabel('Epoch')\n",
        "ax2.set_ylabel('Accuracy')\n",
        "ax2.set_title('Accuracy vs Epoch')\n",
        "ax2.grid(True)\n",
        "\n",
        "fig.set_figheight(10)\n",
        "fig.set_figwidth(35)\n",
        "plt.show()\n",
        "\n",
        "history_callback_object.history.keys()"
      ]
    },
    {
      "cell_type": "markdown",
      "metadata": {
        "id": "8aOka7eUnz1t"
      },
      "source": [
        "# 6. Make and Evaluate New Predictions Using Our Testing Data"
      ]
    },
    {
      "cell_type": "code",
      "execution_count": 23,
      "metadata": {
        "colab": {
          "base_uri": "https://localhost:8080/"
        },
        "id": "5j9xMJEhv220",
        "outputId": "20897d32-0606-4034-ec43-f88865298e89"
      },
      "outputs": [
        {
          "name": "stdout",
          "output_type": "stream",
          "text": [
            "4/4 [==============================] - 1s 30ms/step\n"
          ]
        }
      ],
      "source": [
        "y_pred = model.predict(X_test)\n",
        "y_pred_classes = np.argmax(y_pred,axis = 1)\n",
        "y_true = y_test\n",
        "\n",
        "y_pred = tf.round(y_pred)\n",
        "y_pred = y_pred.numpy()"
      ]
    },
    {
      "cell_type": "markdown",
      "metadata": {
        "id": "60jkBfvOn7TZ"
      },
      "source": [
        "# 7. Confusion Matrix"
      ]
    },
    {
      "cell_type": "code",
      "execution_count": 24,
      "metadata": {
        "colab": {
          "base_uri": "https://localhost:8080/",
          "height": 870
        },
        "id": "CUXtxSV8oDVJ",
        "outputId": "0f50d2c4-9e6f-4671-d23d-ee7a344f4747"
      },
      "outputs": [
        {
          "name": "stdout",
          "output_type": "stream",
          "text": [
            "      fake  real\n",
            "fake    45     9\n",
            "real     8    38 \n",
            "\n",
            "\n",
            "\n"
          ]
        },
        {
          "data": {
            "image/png": "[encoded data removed]",
            "text/plain": [
              "<Figure size 1000x1000 with 2 Axes>"
            ]
          },
          "metadata": {},
          "output_type": "display_data"
        }
      ],
      "source": [
        "fig = plt.figure(figsize=(10, 10))\n",
        "plt.title('Confusion Matrix of Model')\n",
        "plt.xlabel('Predicted')\n",
        "plt.ylabel('Actual')\n",
        "\n",
        "model_matrix = confusion_matrix(y_true, y_pred)\n",
        "cm = pd.DataFrame(model_matrix,\n",
        "                  index = [i for i in fake_real_audio ],\n",
        "                  columns = [i for i in fake_real_audio ]\n",
        "                 )\n",
        "\n",
        "\n",
        "ax = sns.heatmap(cm,\n",
        "                 annot = True,\n",
        "                 fmt = 'd',cbar=True)\n",
        "\n",
        "print(cm, '\\n\\n\\n')\n",
        "\n",
        "plt.show()"
      ]
    },
    {
      "cell_type": "markdown",
      "metadata": {
        "id": "NgpgZB7F0iWP"
      },
      "source": [
        "## 7.1 Checking Our Scores"
      ]
    },
    {
      "cell_type": "code",
      "execution_count": 25,
      "metadata": {
        "colab": {
          "base_uri": "https://localhost:8080/"
        },
        "id": "4iY49yzv0aCq",
        "outputId": "a3807da3-fc27-4dec-b27b-04d17d509fea"
      },
      "outputs": [
        {
          "name": "stdout",
          "output_type": "stream",
          "text": [
            "4/4 [==============================] - 1s 8ms/step - loss: 0.4100 - accuracy: 0.8300\n",
            "Model Test Loss: 0.410003\n",
            "Model Test Loss: 41.000286%\n",
            "\n",
            "Model Test Accuracy: 0.830000\n",
            "Model Test Accuracy: 82.999998%\n"
          ]
        }
      ],
      "source": [
        "model_loss, model_accuracy = model.evaluate(X_test, y_test)\n",
        "\n",
        "print('Model Test Loss: %f' % (model_loss))\n",
        "print('Model Test Loss: %f' % (model_loss * 100), '%\\n', sep = '')\n",
        "print('Model Test Accuracy: %f' % (model_accuracy))\n",
        "print('Model Test Accuracy: %f' % (model_accuracy * 100), '%', sep = '')"
      ]
    },
    {
      "cell_type": "code",
      "execution_count": 26,
      "metadata": {
        "colab": {
          "base_uri": "https://localhost:8080/"
        },
        "id": "2hhX2h-I0hz-",
        "outputId": "39d2e7aa-bd39-4824-92ef-d9afa945c171"
      },
      "outputs": [
        {
          "name": "stdout",
          "output_type": "stream",
          "text": [
            "Accuracy Score: 83.000000%\n",
            "Precision Score: 83.000000%\n",
            "Recall Score: 83.000000%\n",
            "F1 Score: 83.000000%\n"
          ]
        }
      ],
      "source": [
        "# Calculate our accuracy score.\n",
        "accuracy = accuracy_score(y_true, y_pred)\n",
        "\n",
        "# Calculate our precision score.\n",
        "precision = precision_score(y_true, y_pred, average = 'micro')\n",
        "\n",
        "# Calculate our recall score.\n",
        "recall = recall_score(y_true, y_pred, average = 'micro')\n",
        "\n",
        "# Calculate our f1-score.\n",
        "f1 = f1_score(y_true, y_pred, average = 'micro')\n",
        "\n",
        "# Print each of our scores to inspect performance.\n",
        "print('Accuracy Score: %f' % (accuracy * 100), '%', sep = '')\n",
        "print('Precision Score: %f' % (precision * 100), '%', sep = '')\n",
        "print('Recall Score: %f' % (recall * 100), '%', sep = '')\n",
        "print('F1 Score: %f' % (f1 * 100), '%', sep = '')\n"
      ]
    },
    {
      "cell_type": "markdown",
      "metadata": {
        "id": "IRluzz7W3oJR"
      },
      "source": [
        "## 7.2 Classification Report"
      ]
    },
    {
      "cell_type": "code",
      "execution_count": 27,
      "metadata": {
        "colab": {
          "base_uri": "https://localhost:8080/"
        },
        "id": "3iwc0Uuv3duD",
        "outputId": "e583152a-0da5-4d18-bd2a-9f80a761f0bb"
      },
      "outputs": [
        {
          "name": "stdout",
          "output_type": "stream",
          "text": [
            "Model Classification Report\n",
            "               precision    recall  f1-score   support\n",
            "\n",
            "        fake       0.85      0.83      0.84        54\n",
            "        real       0.81      0.83      0.82        46\n",
            "\n",
            "    accuracy                           0.83       100\n",
            "   macro avg       0.83      0.83      0.83       100\n",
            "weighted avg       0.83      0.83      0.83       100\n",
            "\n"
          ]
        }
      ],
      "source": [
        "print('Model Classification Report\\n', classification_report(y_true, y_pred, target_names = fake_real_audio))"
      ]
    }
  ],
  "metadata": {
    "accelerator": "GPU",
    "colab": {
      "gpuType": "T4",
      "provenance": []
    },
    "kernelspec": {
      "display_name": "Python 3",
      "name": "python3"
    },
    "language_info": {
      "codemirror_mode": {
        "name": "ipython",
        "version": 3
      },
      "file_extension": ".py",
      "mimetype": "text/x-python",
      "name": "python",
      "nbconvert_exporter": "python",
      "pygments_lexer": "ipython3",
      "version": "3.11.0"
    }
  },
  "nbformat": 4,
  "nbformat_minor": 0
}
