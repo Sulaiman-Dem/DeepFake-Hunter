{
 "cells": [
  {
   "cell_type": "markdown",
   "metadata": {},
   "source": [
    "# Datasets Links\n",
    "1. https://deepfake-demo.aisec.fraunhofer.de/in_the_wild\n",
    "2. https://www.kaggle.com/datasets/birdy654/deep-voice-deepfake-voice-recognition/data\n",
    "3. https://github.com/RUB-SysSec/WaveFake\n",
    "\n",
    "# Ideas Help\n",
    "1. https://www.kaggle.com/code/birdy654/detecting-ai-generated-speech-with-random-forests\n",
    "\n",
    "# Create our own Datasets for testing\n",
    "1. https://www.resemble.ai/\n",
    "2. https://speechify.com/blog/deepfake-voice/?landing_url=https%3A%2F%2Fspeechify.com%2Fblog%2Fdeepfake-voice%2F\n",
    "\n",
    "# More in-depth Understanding\n",
    "1. https://github.com/CorentinJ/Real-Time-Voice-Cloning"
   ]
  },
  {
   "cell_type": "markdown",
   "metadata": {},
   "source": []
  }
 ],
 "metadata": {
  "language_info": {
   "name": "python"
  }
 },
 "nbformat": 4,
 "nbformat_minor": 2
}
